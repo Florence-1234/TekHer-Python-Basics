{
 "cells": [
  {
   "cell_type": "markdown",
   "id": "d68c1dee",
   "metadata": {},
   "source": [
    "# Practical_2: String and files"
   ]
  },
  {
   "cell_type": "markdown",
   "id": "bea983a3",
   "metadata": {},
   "source": [
    "---\n",
    "\n",
    "### Exercise 1:\n",
    "Create a string variable `text` and assign it the value `\"Python is amazing!\"`.\n",
    "\n",
    "```python\n",
    "# Exercise 1\n",
    "```\n",
    "\n",
    "---\n",
    "\n",
    "### Exercise 2:\n",
    "Find the length of the string `\"Hello, World!\"` and store it in a variable `length`.\n",
    "\n",
    "```python\n",
    "# Exercise 2\n",
    "```\n",
    "\n",
    "---\n",
    "\n",
    "### Exercise 3:\n",
    "Convert the string `\"python programming\"` to uppercase and store it in a variable `upper_text`.\n",
    "\n",
    "```python\n",
    "# Exercise 3\n",
    "```\n",
    "\n",
    "---\n",
    "\n",
    "### Exercise 4:\n",
    "Extract the first 5 characters from the string `\"Artificial Intelligence\"`.\n",
    "\n",
    "```python\n",
    "# Exercise 4\n",
    "```\n",
    "\n",
    "---\n",
    "\n",
    "### Exercise 5:\n",
    "Concatenate the strings `\"Hello\"` and `\"World\"` with a space in between.\n",
    "\n",
    "```python\n",
    "# Exercise 5\n",
    "```\n",
    "\n",
    "---\n",
    "\n",
    "### Exercise 6:\n",
    "Replace the word `\"dog\"` with `\"cat\"` in the string `\"The quick brown dog jumps over the lazy dog.\"`.\n",
    "\n",
    "```python\n",
    "# Exercise 6\n",
    "```\n",
    "\n",
    "---\n",
    "\n",
    "### Exercise 7:\n",
    "Split the string `\"apple,banana,orange\"` by commas and store the result in a list `fruits_list`.\n",
    "\n",
    "```python\n",
    "# Exercise 7\n",
    "```\n",
    "\n",
    "---\n",
    "\n",
    "### Exercise 8:\n",
    "Use string formatting to create the sentence `\"My name is Alice and I am 25 years old.\"`, where the name and age are variables.\n",
    "\n",
    "```python\n",
    "# Exercise 8\n",
    "```\n",
    "\n",
    "---\n",
    "\n",
    "### Exercise 9:\n",
    "Check if the string `\"python\"` is present in the sentence `\"I love python programming\"`.\n",
    "\n",
    "```python\n",
    "# Exercise 9\n",
    "```\n",
    "\n",
    "---\n",
    "\n",
    "### Exercise 10:\n",
    "Count the number of occurrences of the letter `\"e\"` in the string `\"Elephant is an elegant animal\"`.\n",
    "\n",
    "```python\n",
    "# Exercise 10\n",
    "```\n",
    "\n",
    "---\n",
    "\n",
    "### Exercise 11:\n",
    "Remove any leading and trailing spaces from the string `\"   Data Science   \"`.\n",
    "\n",
    "```python\n",
    "# Exercise 11\n",
    "```\n",
    "\n",
    "---\n",
    "\n",
    "### Exercise 12:\n",
    "Convert the string `\"100\"` into an integer and store it in a variable `int_value`.\n",
    "\n",
    "```python\n",
    "# Exercise 12\n",
    "```\n",
    "\n",
    "---\n",
    "\n",
    "### Exercise 13:\n",
    "Extract the substring `\"pro\"` from the string `\"programming\"`.\n",
    "\n",
    "```python\n",
    "# Exercise 13\n",
    "```\n",
    "\n",
    "---\n",
    "\n",
    "### Exercise 14:\n",
    "Check if the string `\"data\"` starts with `\"da\"` and ends with `\"ta\"`.\n",
    "\n",
    "```python\n",
    "# Exercise 14\n",
    "```\n",
    "\n",
    "---\n",
    "\n",
    "### Exercise 15:\n",
    "Reverse the string `\"machine learning\"` and store the result in `reversed_text`.\n",
    "\n",
    "```python\n",
    "# Exercise 15\n",
    "```\n",
    "\n",
    "---\n",
    "\n",
    "### Exercise 16:\n",
    "Convert the first letter of each word in the string `\"machine learning is fun\"` to uppercase.\n",
    "\n",
    "```python\n",
    "# Exercise 16\n",
    "```\n",
    "\n",
    "---\n",
    "\n",
    "### Exercise 17:\n",
    "Create a multiline string representing a poem and store it in a variable `poem`.\n",
    "\n",
    "```python\n",
    "# Exercise 17\n",
    "```\n",
    "\n",
    "---\n",
    "\n",
    "### Exercise 18:\n",
    "Write a string to a file named `\"output.txt\"`.\n",
    "\n",
    "```python\n",
    "# Exercise 18\n",
    "```\n",
    "\n",
    "---\n",
    "\n",
    "### Exercise 19:\n",
    "Read the contents of a file named `\"data.txt\"` and print it line by line.\n",
    "\n",
    "```python\n",
    "# Exercise 19\n",
    "```\n",
    "\n",
    "---\n",
    "\n",
    "### Exercise 20:\n",
    "Check if a file `\"example.txt\"` exists before opening it.\n",
    "\n",
    "```python\n",
    "# Exercise 20\n",
    "```\n",
    "\n",
    "---\n",
    "\n",
    "### Exercise 21:\n",
    "Append a new line `\"This is a new line\"` to an existing file `\"notes.txt\"`.\n",
    "\n",
    "```python\n",
    "# Exercise 21\n",
    "```\n",
    "\n",
    "---\n",
    "\n",
    "### Exercise 22:\n",
    "Read the contents of a file `\"log.txt\"` and store each line in a list `log_lines`.\n",
    "\n",
    "```python\n",
    "# Exercise 22\n",
    "```\n",
    "\n",
    "---\n",
    "\n",
    "### Exercise 23:\n",
    "Create a new file `\"report.txt\"` and write the string `\"Data analysis report\"` to it.\n",
    "\n",
    "```python\n",
    "# Exercise 23\n",
    "```\n",
    "\n",
    "---\n",
    "\n",
    "### Exercise 24:\n",
    "Replace the word `\"error\"` with `\"issue\"` in a file `\"log.txt\"`.\n",
    "\n",
    "```python\n",
    "# Exercise 24\n",
    "```\n",
    "\n",
    "---\n",
    "\n",
    "### Exercise 25:\n",
    "Count the number of words in a text file `\"document.txt\"`.\n",
    "\n",
    "```python\n",
    "# Exercise 25\n",
    "```\n",
    "\n",
    "---\n",
    "\n",
    "### Exercise 26:\n",
    "Write a Python script that reads a file `\"essay.txt\"` and prints the total number of lines, words, and characters.\n",
    "\n",
    "```python\n",
    "# Exercise 26\n",
    "```\n",
    "\n",
    "---\n",
    "\n",
    "### Exercise 27:\n",
    "Copy the contents of one file `\"source.txt\"` to another file `\"destination.txt\"`.\n",
    "\n",
    "```python\n",
    "# Exercise 27\n",
    "```\n",
    "\n",
    "---\n",
    "\n",
    "### Exercise 28:\n",
    "Write a Python function that takes a filename as input and returns the number of lines in the file.\n",
    "\n",
    "```python\n",
    "# Exercise 28\n",
    "```\n",
    "\n",
    "---\n",
    "\n",
    "### Exercise 29:\n",
    "Extract all the words from a text file `\"article.txt\"` that contain more than 5 characters.\n",
    "\n",
    "```python\n",
    "# Exercise 29\n",
    "```\n",
    "\n",
    "---\n",
    "\n",
    "### Exercise 30:\n",
    "Convert the contents of a file `\"notes.txt\"` to uppercase and save the result in another file `\"uppercase_notes.txt\"`.\n",
    "\n",
    "```python\n",
    "# Exercise 30\n",
    "```\n",
    "\n",
    "---\n",
    "\n",
    "### Exercise 31:\n",
    "Write a Python script that reads a file and removes all empty lines.\n",
    "\n",
    "```python\n",
    "# Exercise 31\n",
    "```\n",
    "\n",
    "---\n",
    "\n",
    "### Exercise 32:\n",
    "Open a file `\"config.txt\"` in both read and write mode.\n",
    "\n",
    "```python\n",
    "# Exercise 32\n",
    "```\n",
    "\n",
    "---\n",
    "\n",
    "### Exercise 33:\n",
    "Write a Python function that reads a file and prints the longest line in the file.\n",
    "\n",
    "```python\n",
    "# Exercise 33\n",
    "```\n",
    "\n",
    "---\n",
    "\n",
    "### Exercise 34:\n",
    "Write a Python script to count the frequency of each letter in a text file `\"message.txt\"`.\n",
    "\n",
    "```python\n",
    "# Exercise 34\n",
    "```\n",
    "\n",
    "---\n",
    "\n",
    "### Exercise 35:\n",
    "Write a Python script that reads a file and prints the total number of characters, excluding spaces.\n",
    "\n",
    "```python\n",
    "# Exercise 35\n",
    "```\n",
    "\n",
    "---\n",
    "\n",
    "### Exercise 36:\n",
    "Create a Python script to check whether a file is empty or not.\n",
    "\n",
    "```python\n",
    "# Exercise 36\n",
    "```\n",
    "\n",
    "---\n",
    "\n",
    "### Exercise 37:\n",
    "Write a Python function that reads a file and removes all punctuation marks from the text.\n",
    "\n",
    "```python\n",
    "# Exercise 37\n",
    "```\n",
    "\n",
    "---\n",
    "\n",
    "### Exercise 38:\n",
    "Create a Python function that writes a list of strings to a file, each string on a new line.\n",
    "\n",
    "```python\n",
    "# Exercise 38\n",
    "```\n",
    "\n",
    "---\n",
    "\n",
    "### Exercise 39:\n",
    "Write a Python script to count the number of lines that start with a specific letter (e.g., \"A\") in a text file.\n",
    "\n",
    "```python\n",
    "# Exercise 39\n",
    "```\n",
    "\n",
    "---\n",
    "\n",
    "### Exercise 40:\n",
    "Write a Python function that takes a string as input and writes it to a file `\"output.txt\"` in reverse order.\n",
    "\n",
    "```python\n",
    "# Exercise 40\n",
    "```\n",
    "\n",
    "---\n",
    "\n",
    "### Exercise 41:\n",
    "Write a Python script that reads a file and prints all the lines that contain the word `\"Python\"`.\n",
    "\n",
    "```python\n",
    "# Exercise 41\n",
    "```\n",
    "\n",
    "---\n",
    "\n",
    "### Exercise 42:\n",
    "Write a Python script that opens a file and removes all numeric digits from the file's content.\n",
    "\n",
    "```python\n",
    "# Exercise 42\n",
    "```\n",
    "\n",
    "---\n",
    "\n",
    "### Exercise 43:\n",
    "Write a Python script to find the most frequent word in a text file `\"book.txt\"`.\n",
    "\n",
    "```python\n",
    "# Exercise 43\n",
    "```\n",
    "\n",
    "---\n",
    "\n",
    "### Exercise 44:\n",
    "Write a Python script that reads a file and prints all the lines that contain exactly 5 words.\n",
    "\n",
    "```python\n",
    "# Exercise 44\n",
    "```\n",
    "\n",
    "---\n",
    "\n",
    "### Exercise 45:\n",
    "Write a Python script to read a file and print the first and last line of the file.\n",
    "\n",
    "```python\n",
    "# Exercise 45\n",
    "```\n",
    "\n",
    "---\n",
    "\n",
    "### Exercise 46:\n",
    "Write a Python script that checks if a file `\"students.txt\"` is writable.\n",
    "\n",
    "```python\n",
    "# Exercise 46\n",
    "```\n",
    "\n",
    "---\n",
    "\n",
    "### Exercise 47:\n",
    "Create a Python function that opens a file and returns the number of unique words in the file.\n",
    "\n",
    "```python\n",
    "# Exercise 47\n",
    "```\n",
    "\n",
    "---\n",
    "\n",
    "### Exercise 48:\n",
    "Write a Python script that reads a file and prints all lines in reverse order.\n",
    "\n",
    "```python\n",
    "# Exercise 48\n",
    "```\n",
    "\n",
    "---\n",
    "\n",
    "### Exercise 49:\n",
    "Write a Python function that reads a file and returns the most common letter in the text.\n",
    "\n",
    "```python\n",
    "# Exercise 49\n",
    "```\n",
    "\n",
    "---\n",
    "\n",
    "### Exercise 50:\n",
    "Write a Python script that reads a file and replaces every occurrence of `\"Python\"` with `\"Java\"`.\n",
    "\n",
    "```python\n",
    "# Exercise 50\n",
    "```\n",
    "\n",
    "---\n",
    "\n"
   ]
  },
  {
   "cell_type": "markdown",
   "id": "f3907474-af49-442d-b368-6dc4b1523558",
   "metadata": {},
   "source": [
    "# Exercise 1"
   ]
  },
  {
   "cell_type": "code",
   "execution_count": 2,
   "id": "c3b434d4-e71b-46d2-a895-f1065d9b820d",
   "metadata": {},
   "outputs": [
    {
     "name": "stdout",
     "output_type": "stream",
     "text": [
      "Python is amazing!\n"
     ]
    }
   ],
   "source": [
    "text = \"Python is amazing!\"\n",
    "print(text)"
   ]
  },
  {
   "cell_type": "markdown",
   "id": "cb556575-b2c8-4a19-a391-52bf1d753b09",
   "metadata": {},
   "source": [
    "# Exercise 2"
   ]
  },
  {
   "cell_type": "code",
   "execution_count": 5,
   "id": "6c463560-499c-4cba-92e0-ef4c286ad1f8",
   "metadata": {},
   "outputs": [
    {
     "name": "stdout",
     "output_type": "stream",
     "text": [
      "11\n"
     ]
    }
   ],
   "source": [
    "length = len(\"Hello,World\")\n",
    "print(length)"
   ]
  },
  {
   "cell_type": "markdown",
   "id": "a4acedde-87bb-40a9-8723-9d9d48f3b9cf",
   "metadata": {},
   "source": [
    "# Exercise 3"
   ]
  },
  {
   "cell_type": "code",
   "execution_count": 6,
   "id": "51e6eed6-5a1e-491a-b748-5626f1cbdcf8",
   "metadata": {},
   "outputs": [
    {
     "name": "stdout",
     "output_type": "stream",
     "text": [
      "PYTHON PROGRAMMING\n"
     ]
    }
   ],
   "source": [
    "upper_text = \"python programming\".upper()\n",
    "print(upper_text)"
   ]
  },
  {
   "cell_type": "markdown",
   "id": "4a4e3fb2-53bb-4225-ba77-f39894414125",
   "metadata": {},
   "source": [
    "# Exercise 4"
   ]
  },
  {
   "cell_type": "code",
   "execution_count": 7,
   "id": "0106e963-7f45-4cbc-ba22-9150beeb9aee",
   "metadata": {},
   "outputs": [
    {
     "name": "stdout",
     "output_type": "stream",
     "text": [
      "Artif\n"
     ]
    }
   ],
   "source": [
    "first_five = \"Artificial Intelligence\"[:5]\n",
    "print(first_five)"
   ]
  },
  {
   "cell_type": "markdown",
   "id": "86c5bd3a-9c71-4781-b57d-c876769a0d71",
   "metadata": {},
   "source": [
    "# Exercise 5"
   ]
  },
  {
   "cell_type": "code",
   "execution_count": 8,
   "id": "787331a4-22e5-4bf4-82c7-0c86e3ae1c2e",
   "metadata": {},
   "outputs": [
    {
     "name": "stdout",
     "output_type": "stream",
     "text": [
      "Hello World\n"
     ]
    }
   ],
   "source": [
    "greeting = \"Hello\" + \" \" + \"World\"\n",
    "print(greeting)"
   ]
  },
  {
   "cell_type": "markdown",
   "id": "be8c53a1-7e69-4b3c-9a06-94586ed98da9",
   "metadata": {},
   "source": [
    "# Exercise 6"
   ]
  },
  {
   "cell_type": "code",
   "execution_count": 9,
   "id": "26efe460-be35-4a5d-94e2-fc51fb687b0b",
   "metadata": {},
   "outputs": [
    {
     "name": "stdout",
     "output_type": "stream",
     "text": [
      "The quick brown cat jumps over the lazy cat.\n"
     ]
    }
   ],
   "source": [
    "replaced_text = \"The quick brown dog jumps over the lazy dog.\".replace(\"dog\", \"cat\")\n",
    "print(replaced_text)"
   ]
  },
  {
   "cell_type": "markdown",
   "id": "54c4da4f-1a0f-4dd4-aee6-d5f28e93a80d",
   "metadata": {},
   "source": [
    "# Exercise 7"
   ]
  },
  {
   "cell_type": "code",
   "execution_count": 10,
   "id": "37eea052-d4e2-44ed-99bb-a725d46ae472",
   "metadata": {},
   "outputs": [
    {
     "name": "stdout",
     "output_type": "stream",
     "text": [
      "['apple', 'banana', 'orange']\n"
     ]
    }
   ],
   "source": [
    "fruits_list = \"apple,banana,orange\".split(\",\")\n",
    "print(fruits_list)"
   ]
  },
  {
   "cell_type": "markdown",
   "id": "c8aa817c-ef86-442d-b790-5c36c0f90829",
   "metadata": {},
   "source": [
    "# Exercise 8"
   ]
  },
  {
   "cell_type": "code",
   "execution_count": 11,
   "id": "a8ffbb25-bb91-4079-bf2a-1315494fcae5",
   "metadata": {},
   "outputs": [
    {
     "name": "stdout",
     "output_type": "stream",
     "text": [
      "My name is Alice and I am 25 years old.\n"
     ]
    }
   ],
   "source": [
    "name = \"Alice\"\n",
    "age = 25\n",
    "introduction = f\"My name is {name} and I am {age} years old.\"\n",
    "print(introduction)"
   ]
  },
  {
   "cell_type": "markdown",
   "id": "540a2573-6fdd-4c79-bf2d-da556e1e41ca",
   "metadata": {},
   "source": [
    "# Exercise 9"
   ]
  },
  {
   "cell_type": "code",
   "execution_count": 12,
   "id": "5f9c3acb-02ed-4fd3-b0a1-aafa2252c450",
   "metadata": {},
   "outputs": [
    {
     "name": "stdout",
     "output_type": "stream",
     "text": [
      "True\n"
     ]
    }
   ],
   "source": [
    "contains_python = \"python\" in \"I love python programming\"\n",
    "print(contains_python)"
   ]
  },
  {
   "cell_type": "markdown",
   "id": "6dae3e18-f5e7-4914-a318-d32ae3747ac7",
   "metadata": {},
   "source": [
    "# Exercise 10"
   ]
  },
  {
   "cell_type": "code",
   "execution_count": 13,
   "id": "f0f4a6cd-6db6-4426-9f7b-c310d0390cdf",
   "metadata": {},
   "outputs": [
    {
     "name": "stdout",
     "output_type": "stream",
     "text": [
      "3\n"
     ]
    }
   ],
   "source": [
    "e_count = \"Elephant is an elegant animal\".count(\"e\")\n",
    "print(e_count)"
   ]
  },
  {
   "cell_type": "markdown",
   "id": "5bb562a1-e2ac-4d9c-934b-beb8054caa7f",
   "metadata": {},
   "source": [
    "# Exercise 11"
   ]
  },
  {
   "cell_type": "code",
   "execution_count": 14,
   "id": "af9ded8e-cbda-47d6-8361-16339492bbb4",
   "metadata": {},
   "outputs": [
    {
     "name": "stdout",
     "output_type": "stream",
     "text": [
      "Data Science\n"
     ]
    }
   ],
   "source": [
    "cleaned_string = \"   Data Science   \".strip()\n",
    "print(cleaned_string)"
   ]
  },
  {
   "cell_type": "markdown",
   "id": "e6c5a566-cb45-489d-bb8a-a2bd7341163a",
   "metadata": {},
   "source": [
    "# Exercise 12"
   ]
  },
  {
   "cell_type": "code",
   "execution_count": 15,
   "id": "80317185-5c86-4c05-a5fa-84f1c7f53dc7",
   "metadata": {},
   "outputs": [
    {
     "name": "stdout",
     "output_type": "stream",
     "text": [
      "100\n"
     ]
    }
   ],
   "source": [
    "int_value = int(\"100\")\n",
    "print (int_value)"
   ]
  },
  {
   "cell_type": "markdown",
   "id": "c2fcfe99-e70a-4915-ba17-6ff96ea7646f",
   "metadata": {},
   "source": [
    "# Exercise 13"
   ]
  },
  {
   "cell_type": "code",
   "execution_count": 16,
   "id": "02a36b87-3e40-4e5e-acd0-f4c800fdc97c",
   "metadata": {},
   "outputs": [
    {
     "name": "stdout",
     "output_type": "stream",
     "text": [
      "pro\n"
     ]
    }
   ],
   "source": [
    "substring = \"programming\"[0:3]\n",
    "print(substring)"
   ]
  },
  {
   "cell_type": "markdown",
   "id": "363daadf-ed4b-4281-acfa-c9737588d430",
   "metadata": {},
   "source": [
    "# Exercise 14"
   ]
  },
  {
   "cell_type": "code",
   "execution_count": 17,
   "id": "cf554490-679a-40cd-b51b-ef6c98b85771",
   "metadata": {},
   "outputs": [
    {
     "name": "stdout",
     "output_type": "stream",
     "text": [
      "True\n"
     ]
    }
   ],
   "source": [
    "word = \"data\"\n",
    "starts_and_ends = word.startswith(\"da\") and word.endswith(\"ta\")\n",
    "print(starts_and_ends)"
   ]
  },
  {
   "cell_type": "markdown",
   "id": "216616c3-ad2c-4a76-8bb6-d52210ca2f0b",
   "metadata": {},
   "source": [
    "# Exercise 15"
   ]
  },
  {
   "cell_type": "code",
   "execution_count": 18,
   "id": "6beb86e5-8287-43ed-9733-47e1877bfbcb",
   "metadata": {},
   "outputs": [
    {
     "name": "stdout",
     "output_type": "stream",
     "text": [
      "<class 'reversed'>\n"
     ]
    }
   ],
   "source": [
    "reversed_text = \"machine learning\"[::-1]\n",
    "print(reversed )"
   ]
  },
  {
   "cell_type": "markdown",
   "id": "1f612ea3-6e9c-46b0-aeea-75fc6115f0f0",
   "metadata": {},
   "source": [
    "# Exercise 16"
   ]
  },
  {
   "cell_type": "code",
   "execution_count": 20,
   "id": "6b931af6-548e-400e-bd99-8bbb2908b28f",
   "metadata": {},
   "outputs": [],
   "source": [
    "title_case = \"machine learning is fun\".title()"
   ]
  },
  {
   "cell_type": "markdown",
   "id": "b5a7eb46-78ed-47af-afef-8536f30593b7",
   "metadata": {},
   "source": [
    "# Exercise 17"
   ]
  },
  {
   "cell_type": "code",
   "execution_count": 21,
   "id": "651c174c-a1b3-41bb-af78-e31e7e9d1803",
   "metadata": {},
   "outputs": [],
   "source": [
    "poem = \"\"\"Roses are red,\n",
    "Violets are blue,\n",
    "Python is powerful,\n",
    "And so are you.\"\"\""
   ]
  },
  {
   "cell_type": "markdown",
   "id": "ebd1c4f4-6d8d-4085-9488-10c34543a4f7",
   "metadata": {},
   "source": [
    "# Exercise 18"
   ]
  },
  {
   "cell_type": "code",
   "execution_count": 23,
   "id": "257ae490-b516-47d4-8630-760334262a4b",
   "metadata": {},
   "outputs": [],
   "source": [
    "with open(\"output.txt\", \"w\") as file:\n",
    "    file.write(\"This is the content to write to the file.\")"
   ]
  },
  {
   "cell_type": "markdown",
   "id": "e8f56856-f782-4d7c-baa4-7a5cf384378b",
   "metadata": {},
   "source": [
    "# Exercise 19"
   ]
  },
  {
   "cell_type": "code",
   "execution_count": 1,
   "id": "a1443c91-2aea-454e-a1ae-20fe99bc1d6d",
   "metadata": {},
   "outputs": [
    {
     "name": "stdout",
     "output_type": "stream",
     "text": [
      "Name,Age,Score\n",
      "Alice,23,85\n",
      "Bob,30,90\n",
      "Charlie,25,88\n"
     ]
    }
   ],
   "source": [
    "with open(\"data/data.txt\", \"r\") as file:\n",
    "    for line in file:\n",
    "        print(line.strip())"
   ]
  },
  {
   "cell_type": "markdown",
   "id": "57b44d96-3ab0-405b-a2d7-cef798b20ce6",
   "metadata": {},
   "source": [
    "# Exercise 20"
   ]
  },
  {
   "cell_type": "code",
   "execution_count": 3,
   "id": "20ae4116-10e9-4527-859d-3fe93fa2b66e",
   "metadata": {},
   "outputs": [
    {
     "name": "stdout",
     "output_type": "stream",
     "text": [
      "This is an example text file used for demonstration.\n",
      "\n"
     ]
    }
   ],
   "source": [
    "import os\n",
    "\n",
    "if os.path.exists(\"data/example.txt\"):\n",
    "    with open(\"data/example.txt\", \"r\") as file:\n",
    "        print(file.read())\n",
    "else:\n",
    "    print(\"File does not exist.\")"
   ]
  },
  {
   "cell_type": "markdown",
   "id": "5097baf0-d53a-41d1-943d-eaeb57b61aea",
   "metadata": {},
   "source": [
    "# Exercise 21"
   ]
  },
  {
   "cell_type": "code",
   "execution_count": 4,
   "id": "75190b78-6544-41b2-a184-98f868981d19",
   "metadata": {},
   "outputs": [],
   "source": [
    "with open(\"data/notes.txt\", \"a\") as file:\n",
    "    file.write(\"\\nThis is a new line\")"
   ]
  },
  {
   "cell_type": "markdown",
   "id": "3205ecc4-da3c-4c75-ae76-398c3bd48de3",
   "metadata": {},
   "source": [
    "# Exercise 22"
   ]
  },
  {
   "cell_type": "code",
   "execution_count": 5,
   "id": "62f5d1f7-6ab8-428d-8212-f658d7ac48df",
   "metadata": {},
   "outputs": [],
   "source": [
    "with open(\"data/log.txt\", \"r\") as file:\n",
    "    log_lines = file.readlines()"
   ]
  },
  {
   "cell_type": "markdown",
   "id": "00be361a-c58e-487a-bc0e-a559460d4303",
   "metadata": {},
   "source": [
    "# Exercise 23"
   ]
  },
  {
   "cell_type": "code",
   "execution_count": 6,
   "id": "5952d3ea-181a-4e11-bba3-e45330f6023f",
   "metadata": {},
   "outputs": [],
   "source": [
    "with open(\"data/report.txt\", \"w\") as file:\n",
    "    file.write(\"Data analysis report\")"
   ]
  },
  {
   "cell_type": "markdown",
   "id": "30d850ed-acfa-410e-abde-11fef82c0493",
   "metadata": {},
   "source": [
    "# Exercise 24"
   ]
  },
  {
   "cell_type": "code",
   "execution_count": 8,
   "id": "8eb6315c-cf83-4ea6-bc7f-a8f9aae043a0",
   "metadata": {},
   "outputs": [],
   "source": [
    "with open(\"data/log.txt\", \"r\") as file:\n",
    "    content = file.read()\n",
    "\n",
    "content = content.replace(\"error\", \"issue\")\n",
    "\n",
    "with open(\"data/log.txt\", \"w\") as file:\n",
    "    file.write(content)"
   ]
  },
  {
   "cell_type": "markdown",
   "id": "c3f76367-5424-4e12-9445-d3975a805c91",
   "metadata": {},
   "source": [
    "# Exercise 25"
   ]
  },
  {
   "cell_type": "code",
   "execution_count": 9,
   "id": "81686a9d-763d-4714-b51e-281f408768b5",
   "metadata": {},
   "outputs": [
    {
     "name": "stdout",
     "output_type": "stream",
     "text": [
      "Number of words: 12\n"
     ]
    }
   ],
   "source": [
    "with open(\"data/document.txt\", \"r\") as file:\n",
    "    text = file.read()\n",
    "\n",
    "word_count = len(text.split())\n",
    "print(\"Number of words:\", word_count)"
   ]
  },
  {
   "cell_type": "markdown",
   "id": "015b4b90-6795-401a-a3c9-c65446ba564d",
   "metadata": {},
   "source": [
    "# Exercise 26"
   ]
  },
  {
   "cell_type": "code",
   "execution_count": 10,
   "id": "a446d074-567a-44a3-84cf-61518e876696",
   "metadata": {},
   "outputs": [
    {
     "name": "stdout",
     "output_type": "stream",
     "text": [
      "Lines: 1\n",
      "Words: 10\n",
      "Characters: 66\n"
     ]
    }
   ],
   "source": [
    "with open(\"data/essay.txt\", \"r\") as file:\n",
    "    content = file.read()\n",
    "\n",
    "lines = content.splitlines()\n",
    "words = content.split()\n",
    "characters = len(content)\n",
    "\n",
    "print(\"Lines:\", len(lines))\n",
    "print(\"Words:\", len(words))\n",
    "print(\"Characters:\", characters)"
   ]
  },
  {
   "cell_type": "markdown",
   "id": "821dddf2-c75d-4297-a831-dad8e15de270",
   "metadata": {},
   "source": [
    "# Exercise 27"
   ]
  },
  {
   "cell_type": "code",
   "execution_count": 11,
   "id": "0fb9869a-f110-4ee1-9150-4682e855ce50",
   "metadata": {},
   "outputs": [],
   "source": [
    "with open(\"data/source.txt\", \"r\") as src, open(\"data/destination.txt\", \"w\") as dst:\n",
    "    dst.write(src.read())"
   ]
  },
  {
   "cell_type": "markdown",
   "id": "e4ad2682-02bb-4478-8405-3256b02ba2bd",
   "metadata": {},
   "source": [
    "# Exercise 28"
   ]
  },
  {
   "cell_type": "code",
   "execution_count": 34,
   "id": "b435fd87-167b-45d5-ba2f-6a89f4ab6da0",
   "metadata": {},
   "outputs": [],
   "source": [
    "def count_lines(filename):\n",
    "    with open(filename, \"r\") as file:\n",
    "        return len(file.readlines())"
   ]
  },
  {
   "cell_type": "markdown",
   "id": "445b0fe2-aa2f-4444-a328-41d2fc0b7325",
   "metadata": {},
   "source": [
    "# Exercise 29"
   ]
  },
  {
   "cell_type": "code",
   "execution_count": 12,
   "id": "a60c91d3-a4eb-4608-a243-4f86df4896a7",
   "metadata": {},
   "outputs": [],
   "source": [
    "with open(\"data/article.txt\", \"r\") as file:\n",
    "    words = file.read().split()\n",
    "\n",
    "long_words = [word for word in words if len(word) > 5]"
   ]
  },
  {
   "cell_type": "markdown",
   "id": "43eedbec-e88f-450a-ac88-3536922288a6",
   "metadata": {},
   "source": [
    "# Exercise 30"
   ]
  },
  {
   "cell_type": "code",
   "execution_count": 13,
   "id": "0492089e-af93-4eb6-ac21-278dfbd9e874",
   "metadata": {},
   "outputs": [],
   "source": [
    "with open(\"data/notes.txt\", \"r\") as file:\n",
    "    content = file.read().upper()\n",
    "\n",
    "with open(\"data/uppercase_notes.txt\", \"w\") as file:\n",
    "    file.write(content)"
   ]
  },
  {
   "cell_type": "markdown",
   "id": "99117477-40c5-4733-a858-6024e38ef4fa",
   "metadata": {},
   "source": [
    "# Exercise 31"
   ]
  },
  {
   "cell_type": "code",
   "execution_count": 16,
   "id": "b356cd81-1152-4e3a-93f8-680da112478c",
   "metadata": {},
   "outputs": [
    {
     "name": "stdout",
     "output_type": "stream",
     "text": [
      "['Once upon a time in a land far away...\\n', 'This is a book excerpt.\\n']\n"
     ]
    }
   ],
   "source": [
    "def remove_empty_lines(file_name, output_file):\n",
    "    with open(file_name, 'r') as infile:\n",
    "        lines = infile.readlines()\n",
    "\n",
    "    non_empty_lines = [line for line in lines if line.strip() != '']\n",
    "\n",
    "    with open(output_file, 'w') as outfile:\n",
    "        outfile.writelines(non_empty_lines)\n",
    "        print(non_empty_lines)\n",
    "\n",
    "remove_empty_lines(\"data/book.txt\", \"data/output.txt\")"
   ]
  },
  {
   "cell_type": "markdown",
   "id": "57d10558-b7f5-4dcd-9874-6437d6e05bc3",
   "metadata": {},
   "source": [
    "# Exercise 32"
   ]
  },
  {
   "cell_type": "code",
   "execution_count": 17,
   "id": "a7607e5d-0981-4c89-a7a3-d5eecd24ff8b",
   "metadata": {},
   "outputs": [],
   "source": [
    "file = open(\"data/config.txt\", \"r+\")\n",
    "# Don't forget to close it\n",
    "file.close()"
   ]
  },
  {
   "cell_type": "markdown",
   "id": "558be719-2cf4-43dc-87b6-dca96666573a",
   "metadata": {},
   "source": [
    "# Exercise 33"
   ]
  },
  {
   "cell_type": "code",
   "execution_count": 39,
   "id": "0401f5b0-a97d-439b-90cf-708e49043f14",
   "metadata": {},
   "outputs": [],
   "source": [
    "def print_longest_line(filename):\n",
    "    with open(filename, \"r\") as file:\n",
    "        print(max(file, key=len))"
   ]
  },
  {
   "cell_type": "markdown",
   "id": "1c8e2000-e251-462f-bcca-48970e79e8d8",
   "metadata": {},
   "source": [
    "# Exercise 34"
   ]
  },
  {
   "cell_type": "code",
   "execution_count": 18,
   "id": "a670cb66-f6f3-4656-bcbf-770762cfa3c6",
   "metadata": {},
   "outputs": [],
   "source": [
    "from collections import Counter\n",
    "\n",
    "with open(\"data/message.txt\", \"r\") as file:\n",
    "    content = file.read().replace(\" \", \"\").lower()"
   ]
  },
  {
   "cell_type": "markdown",
   "id": "d50714ee-b9d6-43bb-94de-9c020e3ecad2",
   "metadata": {},
   "source": [
    "# Exercise 35"
   ]
  },
  {
   "cell_type": "code",
   "execution_count": 20,
   "id": "69646cc4-31aa-43f0-ad83-86d622415e04",
   "metadata": {},
   "outputs": [
    {
     "name": "stdout",
     "output_type": "stream",
     "text": [
      "Total number of characters (spaces not included): 51\n"
     ]
    }
   ],
   "source": [
    "def count_characters_excluding_spaces(file_name):\n",
    "    with open(file_name, 'r') as file:\n",
    "        value = file.read()\n",
    "        value_no_spaces = value.replace(' ', '')\n",
    "        char_count = len(value_no_spaces)\n",
    "        print(f\"Total number of characters (spaces not included): {char_count}\")\n",
    "\n",
    "count_characters_excluding_spaces(\"data/book.txt\")"
   ]
  },
  {
   "cell_type": "markdown",
   "id": "690df0d6-debc-4042-99fa-5e4665a67dcf",
   "metadata": {},
   "source": [
    "# Exercise 36"
   ]
  },
  {
   "cell_type": "code",
   "execution_count": 42,
   "id": "5694f313-0774-4199-ac7a-9532a969c1cc",
   "metadata": {},
   "outputs": [],
   "source": [
    "import os\n",
    "\n",
    "def is_file_empty(filename):\n",
    "    return os.path.getsize(filename) == 0"
   ]
  },
  {
   "cell_type": "markdown",
   "id": "0ffba660-e2ee-4f87-8965-6aa92d6e13c9",
   "metadata": {},
   "source": [
    "# Exercise 37"
   ]
  },
  {
   "cell_type": "code",
   "execution_count": 21,
   "id": "415dbf6a-a04b-4aac-bd07-949f912d9579",
   "metadata": {},
   "outputs": [],
   "source": [
    "import string\n",
    "\n",
    "def remove_punctuation(filename):\n",
    "    with open(filename, \"r\") as file:\n",
    "        text = file.read()\n",
    "\n",
    "    clean_text = text.translate(str.maketrans('', '', string.punctuation))\n",
    "    return clean_text"
   ]
  },
  {
   "cell_type": "markdown",
   "id": "afdd34f2-305a-4b33-9418-4bff960b49a9",
   "metadata": {},
   "source": [
    "# Exercise 38"
   ]
  },
  {
   "cell_type": "code",
   "execution_count": 44,
   "id": "16ee3b5b-2973-4afe-b732-275b883c2955",
   "metadata": {},
   "outputs": [],
   "source": [
    "def write_lines_to_file(lines, filename):\n",
    "    with open(filename, \"w\") as file:\n",
    "        for line in lines:\n",
    "            file.write(line + \"\\n\")"
   ]
  },
  {
   "cell_type": "markdown",
   "id": "54f47dee-c7f8-4e0d-bb35-763ad8324d7c",
   "metadata": {},
   "source": [
    "# Exercise 39"
   ]
  },
  {
   "cell_type": "code",
   "execution_count": 23,
   "id": "69fbf2c8-ad88-4485-be1f-62e4818cc7e6",
   "metadata": {},
   "outputs": [
    {
     "name": "stdout",
     "output_type": "stream",
     "text": [
      "Number of lines starting with 'O': 1\n"
     ]
    }
   ],
   "source": [
    "def count_lines_starting_with_letter(file_name, letter):\n",
    "    count = 0\n",
    "    with open(file_name, 'r') as file:\n",
    "        for line in file:\n",
    "            if line.strip().startswith(letter):\n",
    "                count += 1\n",
    "    print(f\"Number of lines starting with '{letter}': {count}\")\n",
    "\n",
    "count_lines_starting_with_letter(\"data/book.txt\", \"O\")"
   ]
  },
  {
   "cell_type": "markdown",
   "id": "2e03b5a0-fe62-44ff-858d-ac152a98333e",
   "metadata": {},
   "source": [
    "# Exercise 40"
   ]
  },
  {
   "cell_type": "code",
   "execution_count": 49,
   "id": "48993e62-8377-4a68-8847-69bdbd1e6b50",
   "metadata": {},
   "outputs": [],
   "source": [
    "def write_reversed(text):\n",
    "    with open(\"output.txt\", \"w\") as file:\n",
    "        file.write(text[::-1])"
   ]
  },
  {
   "cell_type": "markdown",
   "id": "f91eba48-d96e-46c2-ba07-56660e252db8",
   "metadata": {},
   "source": [
    "# Exercise 41"
   ]
  },
  {
   "cell_type": "code",
   "execution_count": 24,
   "id": "ad076cc9-5469-4f32-bfad-3ccb952d3608",
   "metadata": {},
   "outputs": [],
   "source": [
    "def print_lines_with_python(file_name):\n",
    "    with open(file_name, 'r') as file:\n",
    "        for line in file:\n",
    "            if \"Python\" in line:\n",
    "                print(line.strip())\n",
    "\n",
    "print_lines_with_python(\"data/book.txt\")"
   ]
  },
  {
   "cell_type": "markdown",
   "id": "49e79242-17ea-4cbd-913f-78491ddd5e1c",
   "metadata": {},
   "source": [
    "# Exercise 42"
   ]
  },
  {
   "cell_type": "code",
   "execution_count": 25,
   "id": "188b4517-af2d-439b-815a-8f68d7643b03",
   "metadata": {},
   "outputs": [
    {
     "name": "stdout",
     "output_type": "stream",
     "text": [
      "['Once upon a time in a land far away...\\n', 'This is a book excerpt.\\n']\n"
     ]
    }
   ],
   "source": [
    "def remove_digits_from_file(file_name, output_file):\n",
    "    with open(file_name, 'r') as infile:\n",
    "        value = infile.read()\n",
    "    cleaned_value = ''.join(char for char in content if not char.isdigit())\n",
    "    with open(output_file, 'w') as outfile:\n",
    "        outfile.write(cleaned_value)\n",
    "\n",
    "remove_empty_lines(\"data/book.txt\", \"data/output.txt\")"
   ]
  },
  {
   "cell_type": "markdown",
   "id": "0c6a6391-d639-4feb-8ae3-09cc2fa10ae2",
   "metadata": {},
   "source": [
    "# Exercise 43"
   ]
  },
  {
   "cell_type": "code",
   "execution_count": 26,
   "id": "17cca23b-4df0-4285-8590-1168e26e7696",
   "metadata": {},
   "outputs": [
    {
     "name": "stdout",
     "output_type": "stream",
     "text": [
      "Most frequent word: ('a', 3)\n"
     ]
    }
   ],
   "source": [
    "with open(\"data/book.txt\", \"r\") as f:\n",
    "    words = f.read().lower().split()\n",
    "    most_common = Counter(words).most_common(1)[0]\n",
    "print(\"Most frequent word:\", most_common)"
   ]
  },
  {
   "cell_type": "markdown",
   "id": "8911fd45-c0ef-4ae8-968e-a134d186664b",
   "metadata": {},
   "source": [
    "# Exercise 44"
   ]
  },
  {
   "cell_type": "code",
   "execution_count": 27,
   "id": "132ecbd4-70fd-42e9-9c82-ba0238ecc8a5",
   "metadata": {},
   "outputs": [
    {
     "name": "stdout",
     "output_type": "stream",
     "text": [
      "This is a book excerpt.\n"
     ]
    }
   ],
   "source": [
    "def print_lines_with_five_words(file_name):\n",
    "    with open(file_name, 'r') as file:\n",
    "        for line in file:\n",
    "            words = line.strip().split()\n",
    "            if len(words) == 5:\n",
    "                print(line.strip())\n",
    "\n",
    "print_lines_with_five_words(\"data/book.txt\")"
   ]
  },
  {
   "cell_type": "markdown",
   "id": "32c1263a-050e-4793-ad83-232ae77b3045",
   "metadata": {},
   "source": [
    "# Exercise 45"
   ]
  },
  {
   "cell_type": "code",
   "execution_count": 28,
   "id": "a6d1d216-3bb4-465c-8833-cb96d0a150ec",
   "metadata": {},
   "outputs": [
    {
     "name": "stdout",
     "output_type": "stream",
     "text": [
      "First line: Once upon a time in a land far away...\n",
      "Last line: This is a book excerpt.\n"
     ]
    }
   ],
   "source": [
    "def print_first_and_last_line(file_name):\n",
    "    with open(file_name, 'r') as file:\n",
    "        lines = file.readlines()\n",
    "\n",
    "    if lines:\n",
    "        print(\"First line:\", lines[0].strip())\n",
    "        print(\"Last line:\", lines[-1].strip())\n",
    "    else:\n",
    "        print(\"The file is empty.\")\n",
    "\n",
    "print_first_and_last_line(\"data/book.txt\")"
   ]
  },
  {
   "cell_type": "markdown",
   "id": "0c8da818-e64b-49d4-adf8-10d83a1a2fef",
   "metadata": {},
   "source": [
    "# Exercise 46"
   ]
  },
  {
   "cell_type": "code",
   "execution_count": 29,
   "id": "c818b50c-cc47-40d3-a377-1cedda692abb",
   "metadata": {},
   "outputs": [
    {
     "name": "stdout",
     "output_type": "stream",
     "text": [
      "The file 'data/book.txt' is writable.\n"
     ]
    }
   ],
   "source": [
    "import os\n",
    "\n",
    "def is_file_writable(file_name):\n",
    "    if os.path.exists(file_name):\n",
    "        if os.access(file_name, os.W_OK):\n",
    "            print(f\"The file '{file_name}' is writable.\")\n",
    "        else:\n",
    "            print(f\"The file '{file_name}' is not writable.\")\n",
    "    else:\n",
    "        print(f\"The file '{file_name}' does not exist.\")\n",
    "\n",
    "is_file_writable(\"data/book.txt\")"
   ]
  },
  {
   "cell_type": "markdown",
   "id": "39381d1e-db78-4bfe-abd2-c39572f742c8",
   "metadata": {},
   "source": [
    "# Exercise 47"
   ]
  },
  {
   "cell_type": "code",
   "execution_count": 31,
   "id": "0201f54d-61cd-4573-85b9-956b77617756",
   "metadata": {},
   "outputs": [
    {
     "data": {
      "text/plain": [
       "12"
      ]
     },
     "execution_count": 31,
     "metadata": {},
     "output_type": "execute_result"
    }
   ],
   "source": [
    "def unique_word_count(filename):\n",
    "    with open(filename, \"r\") as f:\n",
    "        words = f.read().lower().split()\n",
    "    return len(set(words))\n",
    "\n",
    "unique_word_count(\"data/book.txt\")"
   ]
  },
  {
   "cell_type": "markdown",
   "id": "0adde966-ed41-4343-8f82-326c3a2a2af5",
   "metadata": {},
   "source": [
    "# Exercise 48"
   ]
  },
  {
   "cell_type": "code",
   "execution_count": 32,
   "id": "74a04069-b7a8-484f-9687-1afb50a0ab24",
   "metadata": {},
   "outputs": [
    {
     "name": "stdout",
     "output_type": "stream",
     "text": [
      "This is a book excerpt.\n",
      "Once upon a time in a land far away...\n"
     ]
    }
   ],
   "source": [
    "def print_lines_in_reverse(file_name):\n",
    "    with open(file_name, 'r') as file:\n",
    "        lines = file.readlines()\n",
    "    for line in reversed(lines):\n",
    "        print(line.strip())\n",
    "\n",
    "print_lines_in_reverse(\"data/book.txt\")"
   ]
  },
  {
   "cell_type": "markdown",
   "id": "7a187435-3e46-4b74-bfa1-db3c335c346d",
   "metadata": {},
   "source": [
    "# Exercise 49"
   ]
  },
  {
   "cell_type": "code",
   "execution_count": 33,
   "id": "688f4c96-4084-4bb0-8fe4-5391272bf778",
   "metadata": {},
   "outputs": [
    {
     "data": {
      "text/plain": [
       "('a', 7)"
      ]
     },
     "execution_count": 33,
     "metadata": {},
     "output_type": "execute_result"
    }
   ],
   "source": [
    "def most_common_letter(filename):\n",
    "    with open(filename, \"r\") as f:\n",
    "        letters = [c.lower() for c in f.read() if c.isalpha()]\n",
    "    return Counter(letters).most_common(1)[0]\n",
    "\n",
    "most_common_letter(\"data/book.txt\")"
   ]
  },
  {
   "cell_type": "markdown",
   "id": "110c6b9b-6bef-4150-9023-2d662c79c703",
   "metadata": {},
   "source": [
    "# Exercise 50"
   ]
  },
  {
   "cell_type": "code",
   "execution_count": 34,
   "id": "d2af1fad-6c6c-488c-a3ac-b401cf939d5d",
   "metadata": {},
   "outputs": [],
   "source": [
    "def replace_python_with_java(file_name, output_file):\n",
    "    with open(file_name, 'r') as file:\n",
    "        value = file.read()\n",
    "\n",
    "    updated_value = value.replace(\"Python\", \"Java\")\n",
    "\n",
    "    with open(output_file, 'w') as file:\n",
    "        file.write(updated_value)\n",
    "\n",
    "replace_python_with_java(\"data/book.txt\", \"data/output.txt\")"
   ]
  },
  {
   "cell_type": "code",
   "execution_count": null,
   "id": "982830ec-4d63-4e47-84b3-2d079ac15b56",
   "metadata": {},
   "outputs": [],
   "source": []
  }
 ],
 "metadata": {
  "kernelspec": {
   "display_name": "Python 3 (ipykernel)",
   "language": "python",
   "name": "python3"
  },
  "language_info": {
   "codemirror_mode": {
    "name": "ipython",
    "version": 3
   },
   "file_extension": ".py",
   "mimetype": "text/x-python",
   "name": "python",
   "nbconvert_exporter": "python",
   "pygments_lexer": "ipython3",
   "version": "3.11.7"
  }
 },
 "nbformat": 4,
 "nbformat_minor": 5
}
