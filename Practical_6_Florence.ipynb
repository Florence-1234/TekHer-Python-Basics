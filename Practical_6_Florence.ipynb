{
 "cells": [
  {
   "cell_type": "markdown",
   "id": "bd6f6199",
   "metadata": {},
   "source": [
    "# Practical_6: Numpy"
   ]
  },
  {
   "cell_type": "markdown",
   "id": "de325ed6",
   "metadata": {},
   "source": [
    "---\n",
    "\n",
    "### Exercise 1:\n",
    "Create a NumPy array of integers from 1 to 10.\n"
   ]
  },
  {
   "cell_type": "code",
   "execution_count": 4,
   "id": "23019dc6-3bcd-41ec-9a19-bfee11aec326",
   "metadata": {},
   "outputs": [],
   "source": [
    "import numpy as np"
   ]
  },
  {
   "cell_type": "code",
   "execution_count": 5,
   "id": "9b904697",
   "metadata": {},
   "outputs": [
    {
     "name": "stdout",
     "output_type": "stream",
     "text": [
      "[ 1  2  3  4  5  6  7  8  9 10]\n"
     ]
    }
   ],
   "source": [
    "# Exercise 1\n",
    "z = np.arange(1,11)\n",
    "print(z)"
   ]
  },
  {
   "cell_type": "markdown",
   "id": "745710c7",
   "metadata": {},
   "source": [
    "\n",
    "---\n",
    "\n",
    "### Exercise 2:\n",
    "Create a 3x3 NumPy array filled with zeros.\n"
   ]
  },
  {
   "cell_type": "code",
   "execution_count": 7,
   "id": "875235f1",
   "metadata": {},
   "outputs": [
    {
     "name": "stdout",
     "output_type": "stream",
     "text": [
      "[[1 2 3]\n",
      " [3 4 5]\n",
      " [4 9 7]]\n"
     ]
    }
   ],
   "source": [
    "# Exercise 2\n",
    "b = np.array([[1,2,3],[3,4,5],[4,9,7]])\n",
    "print(b)"
   ]
  },
  {
   "cell_type": "markdown",
   "id": "a542ea80",
   "metadata": {},
   "source": [
    "\n",
    "---\n",
    "\n",
    "### Exercise 3:\n",
    "Create a NumPy array of 10 evenly spaced numbers between 0 and 5.\n"
   ]
  },
  {
   "cell_type": "code",
   "execution_count": 9,
   "id": "97c6ba4a",
   "metadata": {},
   "outputs": [
    {
     "name": "stdout",
     "output_type": "stream",
     "text": [
      "[0 0 1 1 2 2 3 3 4 5]\n"
     ]
    }
   ],
   "source": [
    "# Exercise 3\n",
    "x=10\n",
    "y=5\n",
    "array_nbr=np.linspace(0,y,x)\n",
    "array_nbr = np.interp(\n",
    "    np.linspace(0, x- 1, x),\n",
    "    np.arange(len(array_nbr)),\n",
    "    array_nbr\n",
    ").astype(int)\n",
    "print(array_nbr)"
   ]
  },
  {
   "cell_type": "markdown",
   "id": "e92d80cc",
   "metadata": {},
   "source": [
    "\n",
    "---\n",
    "\n",
    "### Exercise 4:\n",
    "Create a 5x5 identity matrix using NumPy.\n"
   ]
  },
  {
   "cell_type": "code",
   "execution_count": 10,
   "id": "c5213bd2",
   "metadata": {},
   "outputs": [
    {
     "name": "stdout",
     "output_type": "stream",
     "text": [
      "[[1. 0. 0. 0. 0.]\n",
      " [0. 1. 0. 0. 0.]\n",
      " [0. 0. 1. 0. 0.]\n",
      " [0. 0. 0. 1. 0.]\n",
      " [0. 0. 0. 0. 1.]]\n"
     ]
    }
   ],
   "source": [
    "matrix_of_5=np.eye(5)\n",
    "print(matrix_of_5)"
   ]
  },
  {
   "cell_type": "markdown",
   "id": "a16f88e7",
   "metadata": {},
   "source": [
    "\n",
    "---\n",
    "\n",
    "### Exercise 5:\n",
    "Create a 4x4 matrix with random values between 0 and 1.\n"
   ]
  },
  {
   "cell_type": "code",
   "execution_count": 11,
   "id": "2b16922b",
   "metadata": {},
   "outputs": [
    {
     "name": "stdout",
     "output_type": "stream",
     "text": [
      "[[1. 0. 0. 0.]\n",
      " [0. 1. 0. 0.]\n",
      " [0. 0. 1. 0.]\n",
      " [0. 0. 0. 1.]]\n"
     ]
    }
   ],
   "source": [
    "# Exercise 5\n",
    "matrix_of_4=np.eye(4)\n",
    "print(matrix_of_4)"
   ]
  },
  {
   "cell_type": "markdown",
   "id": "cc9af8fd",
   "metadata": {},
   "source": [
    "\n",
    "---\n",
    "\n",
    "### Exercise 6:\n",
    "Find the shape of a NumPy array.\n"
   ]
  },
  {
   "cell_type": "code",
   "execution_count": 14,
   "id": "359864d2",
   "metadata": {},
   "outputs": [
    {
     "name": "stdout",
     "output_type": "stream",
     "text": [
      "(2, 4)\n"
     ]
    }
   ],
   "source": [
    "# Exercise 6\n",
    "t=np.array([[1,5,3,4],[4,6,7,9]])\n",
    "print(t.shape)"
   ]
  },
  {
   "cell_type": "markdown",
   "id": "ada0aff6",
   "metadata": {},
   "source": [
    "\n",
    "---\n",
    "\n",
    "### Exercise 7:\n",
    "Reshape a 1D NumPy array of 16 elements into a 4x4 matrix.\n"
   ]
  },
  {
   "cell_type": "code",
   "execution_count": 15,
   "id": "43fcb4b3",
   "metadata": {},
   "outputs": [
    {
     "name": "stdout",
     "output_type": "stream",
     "text": [
      "[[ 0  1  2  3]\n",
      " [ 4  5  6  7]\n",
      " [ 8  9 10 11]\n",
      " [12 13 14 15]]\n"
     ]
    }
   ],
   "source": [
    "# Exercise 7\n",
    "a=np.arange(16)\n",
    "Matrix=a.reshape(4,4)\n",
    "print(Matrix)"
   ]
  },
  {
   "cell_type": "markdown",
   "id": "d384142a",
   "metadata": {},
   "source": [
    "\n",
    "---\n",
    "\n",
    "### Exercise 8:\n",
    "Find the data type of the elements in a NumPy array.\n"
   ]
  },
  {
   "cell_type": "code",
   "execution_count": 18,
   "id": "bf4dca5a",
   "metadata": {},
   "outputs": [
    {
     "name": "stdout",
     "output_type": "stream",
     "text": [
      "<class 'numpy.ndarray'>\n"
     ]
    }
   ],
   "source": [
    "# Exercise 8\n",
    "Y=np.array([1,2,3,4,5,6])\n",
    "print(type(Y))"
   ]
  },
  {
   "cell_type": "markdown",
   "id": "c295ca54",
   "metadata": {},
   "source": [
    "\n",
    "---\n",
    "\n",
    "### Exercise 9:\n",
    "Create a NumPy array of integers from 1 to 100 and find all even numbers in the array.\n"
   ]
  },
  {
   "cell_type": "code",
   "execution_count": 19,
   "id": "28a61c5e",
   "metadata": {},
   "outputs": [
    {
     "name": "stdout",
     "output_type": "stream",
     "text": [
      "[  2   4   6   8  10  12  14  16  18  20  22  24  26  28  30  32  34  36\n",
      "  38  40  42  44  46  48  50  52  54  56  58  60  62  64  66  68  70  72\n",
      "  74  76  78  80  82  84  86  88  90  92  94  96  98 100]\n"
     ]
    }
   ],
   "source": [
    "# Exercise 9\n",
    "x=np.arange(1,101)\n",
    "even_number =x[x % 2==0]\n",
    "print(even_number)"
   ]
  },
  {
   "cell_type": "markdown",
   "id": "72103956",
   "metadata": {},
   "source": [
    "\n",
    "---\n",
    "\n",
    "### Exercise 10:\n",
    "Generate a 6x6 matrix of random integers between 10 and 50.\n"
   ]
  },
  {
   "cell_type": "code",
   "execution_count": 21,
   "id": "ce04300e",
   "metadata": {},
   "outputs": [
    {
     "name": "stdout",
     "output_type": "stream",
     "text": [
      "[[44 14 36 45 23 14]\n",
      " [40 16 15 20 41 44]\n",
      " [18 30 36 42 24 21]\n",
      " [48 17 29 50 30 34]\n",
      " [10 39 10 40 30 29]\n",
      " [16 18 42 14 20 27]]\n"
     ]
    }
   ],
   "source": [
    "# Exercise 10\n",
    "matrix_of_6 = np.random.randint(10,51,size=(6,6))\n",
    "print(matrix_of_6)\n"
   ]
  },
  {
   "cell_type": "markdown",
   "id": "3dd1a085",
   "metadata": {},
   "source": [
    "\n",
    "---\n",
    "\n",
    "### Exercise 11:\n",
    "Slice a 2D NumPy array to extract a submatrix.\n"
   ]
  },
  {
   "cell_type": "code",
   "execution_count": 22,
   "id": "b8fc90ba",
   "metadata": {},
   "outputs": [
    {
     "data": {
      "text/plain": [
       "array([[ 6,  7,  8],\n",
       "       [11, 12, 13],\n",
       "       [16, 17, 18]])"
      ]
     },
     "execution_count": 22,
     "metadata": {},
     "output_type": "execute_result"
    }
   ],
   "source": [
    "# Exercise 11\n",
    "matrix = np.array([\n",
    "    [ 0,  1,  2,  3,  4],\n",
    "    [ 5,  6,  7,  8, 9],\n",
    "    [10, 11, 12, 13, 14],\n",
    "    [15, 16, 17, 18, 19],\n",
    "    [20, 21, 22, 23, 24]\n",
    "])\n",
    "sub_matrix=matrix[1:4,1:4]\n",
    "sub_matrix"
   ]
  },
  {
   "cell_type": "markdown",
   "id": "73a4344c",
   "metadata": {},
   "source": [
    "\n",
    "---\n",
    "\n",
    "### Exercise 12:\n",
    "Calculate the sum of all elements in a NumPy array.\n"
   ]
  },
  {
   "cell_type": "code",
   "execution_count": 24,
   "id": "3c417ff3",
   "metadata": {},
   "outputs": [
    {
     "name": "stdout",
     "output_type": "stream",
     "text": [
      "[[ 6  8]\n",
      " [10 12]]\n"
     ]
    }
   ],
   "source": [
    "# Exercise 12\n",
    "a = np.array([[1,2],[3,4]])\n",
    "b = np.array([[5,6],[7,8]])\n",
    "print(np.add(a,b))"
   ]
  },
  {
   "cell_type": "markdown",
   "id": "c2346362",
   "metadata": {},
   "source": [
    "\n",
    "---\n",
    "\n",
    "### Exercise 13:\n",
    "Calculate the mean, median, and standard deviation of a NumPy array.\n"
   ]
  },
  {
   "cell_type": "code",
   "execution_count": 25,
   "id": "95e57182",
   "metadata": {},
   "outputs": [
    {
     "name": "stdout",
     "output_type": "stream",
     "text": [
      "mean_is= 4.375\n",
      "==============\n",
      "median_is= 4.0\n",
      "==============\n",
      "standard deviation_is= 2.2878756522153907\n",
      "==============\n"
     ]
    }
   ],
   "source": [
    "# Exercise 13\n",
    "d= np.array([1,2,3,4,4,6,7,8])\n",
    "d_mean=np.mean(d)\n",
    "print('mean_is=',d_mean)\n",
    "print('*********************')\n",
    "d_median=np.median(d)\n",
    "print('median_is=',d_median)\n",
    "print('*********************')\n",
    "d_standard=np.std(d)\n",
    "print('standard deviation_is=',d_standard)\n",
    "print('**********************')"
   ]
  },
  {
   "cell_type": "markdown",
   "id": "67a4fdbd",
   "metadata": {},
   "source": [
    "\n",
    "---\n",
    "\n",
    "### Exercise 14:\n",
    "Find the maximum and minimum values in a NumPy array.\n"
   ]
  },
  {
   "cell_type": "code",
   "execution_count": 27,
   "id": "7959c765",
   "metadata": {},
   "outputs": [
    {
     "name": "stdout",
     "output_type": "stream",
     "text": [
      "0\n",
      "10\n"
     ]
    }
   ],
   "source": [
    "# Exercise 14\n",
    "b=np.array([1,0,4,6,5,7,8,10])\n",
    "b_max=np.max(b)\n",
    "b_min=np.min(b)\n",
    "print(b_min)\n",
    "print(b_max)\n"
   ]
  },
  {
   "cell_type": "markdown",
   "id": "8a705cd1",
   "metadata": {},
   "source": [
    "\n",
    "---\n",
    "\n",
    "### Exercise 15:\n",
    "Create a NumPy array of 20 random integers and find the index of the maximum value.\n"
   ]
  },
  {
   "cell_type": "code",
   "execution_count": 28,
   "id": "c6748d73",
   "metadata": {},
   "outputs": [
    {
     "name": "stdout",
     "output_type": "stream",
     "text": [
      "[24 44  3 22 11 24 28  2 24 39 46 47 36  7 38  1 12 18 42 21]\n",
      "20\n",
      "47\n",
      "11\n"
     ]
    }
   ],
   "source": [
    "# Exercise 15\n",
    "a=np.random.randint(1,50,size=20)\n",
    "max_a=np.argmax(a)\n",
    "print(a)\n",
    "print(len(a))\n",
    "print(a[max_a])\n",
    "print(max_a)\n"
   ]
  },
  {
   "cell_type": "markdown",
   "id": "467ca6ac",
   "metadata": {},
   "source": [
    "\n",
    "---\n",
    "\n",
    "### Exercise 16:\n",
    "Create a NumPy array and reverse its elements.\n"
   ]
  },
  {
   "cell_type": "code",
   "execution_count": 29,
   "id": "0a178eb6",
   "metadata": {},
   "outputs": [
    {
     "name": "stdout",
     "output_type": "stream",
     "text": [
      "[10  8  7  6  5  3  2  1]\n"
     ]
    }
   ],
   "source": [
    "# Exercise 16\n",
    "x=np.array([1,2,3,5,6,7,8,10])\n",
    "x_reverse=x[::-1]\n",
    "print(x_reverse)"
   ]
  },
  {
   "cell_type": "markdown",
   "id": "b7d8ec92",
   "metadata": {},
   "source": [
    "\n",
    "---\n",
    "\n",
    "### Exercise 17:\n",
    "Create a 3x3 matrix and multiply it element-wise by another 3x3 matrix.\n"
   ]
  },
  {
   "cell_type": "code",
   "execution_count": 30,
   "id": "847ddc05",
   "metadata": {},
   "outputs": [
    {
     "name": "stdout",
     "output_type": "stream",
     "text": [
      "[[10 20 16]\n",
      " [26 64 68]\n",
      " [11 24 22]]\n"
     ]
    }
   ],
   "source": [
    "# Exercise 17\n",
    "a=np.array([[0,2,4],[3,7,8],[0,3,4]])\n",
    "b=np.array([[1,4,6],[1,4,6],[2,3,1]])\n",
    "print(np.dot(a,b))"
   ]
  },
  {
   "cell_type": "markdown",
   "id": "58512446",
   "metadata": {},
   "source": [
    "\n",
    "---\n",
    "\n",
    "### Exercise 18:\n",
    "Create a diagonal matrix from a given 1D array.\n"
   ]
  },
  {
   "cell_type": "code",
   "execution_count": 31,
   "id": "bd7e9321",
   "metadata": {},
   "outputs": [
    {
     "name": "stdout",
     "output_type": "stream",
     "text": [
      "[[15  0  0  0]\n",
      " [ 0 25  0  0]\n",
      " [ 0  0 35  0]\n",
      " [ 0  0  0 45]]\n"
     ]
    }
   ],
   "source": [
    "# Exercise 18\n",
    "a=np.array([15,25,35,45])\n",
    "a_diagonal=np.diag(a)\n",
    "print(a_diagonal)"
   ]
  },
  {
   "cell_type": "markdown",
   "id": "10be19e0",
   "metadata": {},
   "source": [
    "\n",
    "---\n",
    "\n",
    "### Exercise 19:\n",
    "Perform matrix multiplication on two 2D NumPy arrays.\n"
   ]
  },
  {
   "cell_type": "code",
   "execution_count": 32,
   "id": "c287973c",
   "metadata": {},
   "outputs": [
    {
     "name": "stdout",
     "output_type": "stream",
     "text": [
      "a matrix:\n",
      " [[2 1]\n",
      " [4 3]]\n",
      "b matrix:\n",
      " [[4 6]\n",
      " [5 6]]\n",
      "result matrix:\n",
      " [[13 18]\n",
      " [31 42]]\n"
     ]
    }
   ],
   "source": [
    "# Exercise 19\n",
    "a=np.array([[2,1],[4,3]])\n",
    "b=np.array([[4,6],[5,6]])\n",
    "result=np.dot(a,b)\n",
    "print('a matrix:\\n',a)\n",
    "print('b matrix:\\n',b)\n",
    "print('result matrix:\\n',result)"
   ]
  },
  {
   "cell_type": "markdown",
   "id": "932aa100",
   "metadata": {},
   "source": [
    "\n",
    "---\n",
    "\n",
    "### Exercise 20:\n",
    "Flatten a 2D NumPy array into a 1D array.\n"
   ]
  },
  {
   "cell_type": "code",
   "execution_count": 33,
   "id": "0b2a7505",
   "metadata": {},
   "outputs": [
    {
     "name": "stdout",
     "output_type": "stream",
     "text": [
      "2D IS:\n",
      " [[0 1 2]\n",
      " [3 4 5]]\n",
      "1D IS:\n",
      " [0 1 2 3 4 5]\n"
     ]
    }
   ],
   "source": [
    "# Exercise 20\n",
    "a=np.array([[0,1,2],[3,4,5]])\n",
    "b=a.flatten()\n",
    "print('2D IS:\\n',a)\n",
    "print('1D IS:\\n',b)"
   ]
  },
  {
   "cell_type": "markdown",
   "id": "43e4204e",
   "metadata": {},
   "source": [
    "\n",
    "---\n",
    "\n",
    "### Exercise 21:\n",
    "Stack two NumPy arrays vertically.\n"
   ]
  },
  {
   "cell_type": "code",
   "execution_count": 34,
   "id": "2fab6ed6",
   "metadata": {},
   "outputs": [
    {
     "name": "stdout",
     "output_type": "stream",
     "text": [
      "x :\n",
      " [[0 1]\n",
      " [2 3]]\n",
      "y :\n",
      " [[4 5]\n",
      " [6 7]]\n",
      "Vertical stack:\n",
      " [[0 1]\n",
      " [2 3]\n",
      " [4 5]\n",
      " [6 7]]\n"
     ]
    }
   ],
   "source": [
    "# Exercise 21\n",
    "x=np.array([[0,1],[2,3]])\n",
    "y=np.array([[4,5],[6,7]])\n",
    "\n",
    "stack_array=np.vstack((x,y))\n",
    "print('x :\\n',x)\n",
    "print('y :\\n',y)\n",
    "print('Vertical stack:\\n',stack_array)"
   ]
  },
  {
   "cell_type": "markdown",
   "id": "54a62aed",
   "metadata": {},
   "source": [
    "\n",
    "---\n",
    "\n",
    "### Exercise 22:\n",
    "Stack two NumPy arrays horizontally.\n"
   ]
  },
  {
   "cell_type": "code",
   "execution_count": 35,
   "id": "38c62fcb",
   "metadata": {},
   "outputs": [
    {
     "name": "stdout",
     "output_type": "stream",
     "text": [
      "x :\n",
      " [[1 2]\n",
      " [3 4]]\n",
      "y :\n",
      " [[5 6]\n",
      " [7 8]]\n",
      "Horzontal stack:\n",
      " [[1 2 5 6]\n",
      " [3 4 7 8]]\n"
     ]
    }
   ],
   "source": [
    "# Exercise 22\n",
    "# Exercise 21\n",
    "a=np.array([[1,2],[3,4]])\n",
    "b=np.array([[5,6],[7,8]])\n",
    "\n",
    "stack_array=np.hstack((a,b))\n",
    "print('x :\\n',a)\n",
    "print('y :\\n',b)\n",
    "print('Horzontal stack:\\n',stack_array)"
   ]
  },
  {
   "cell_type": "markdown",
   "id": "348ee442",
   "metadata": {},
   "source": [
    "\n",
    "---\n",
    "\n",
    "### Exercise 23:\n",
    "Split a NumPy array into multiple sub-arrays.\n"
   ]
  },
  {
   "cell_type": "code",
   "execution_count": 40,
   "id": "bb591997",
   "metadata": {},
   "outputs": [
    {
     "name": "stdout",
     "output_type": "stream",
     "text": [
      "[array([0, 3]), array([4, 6]), array([7, 8])]\n"
     ]
    }
   ],
   "source": [
    "# Exercise 23\n",
    "x=np.array([0,3,4,6,7,8])\n",
    "x_split=np.split(x,3)\n",
    "print(x_split)"
   ]
  },
  {
   "cell_type": "markdown",
   "id": "b1f38f5f",
   "metadata": {},
   "source": [
    "\n",
    "---\n",
    "\n",
    "### Exercise 24:\n",
    "Generate a random NumPy array and round each element to two decimal places.\n"
   ]
  },
  {
   "cell_type": "code",
   "execution_count": 42,
   "id": "9627a34c",
   "metadata": {},
   "outputs": [
    {
     "name": "stdout",
     "output_type": "stream",
     "text": [
      "[[0.84938802 0.15551099 0.03330324 0.22052785]\n",
      " [0.56220766 0.54645801 0.02217834 0.03052765]\n",
      " [0.71096015 0.28387294 0.08088621 0.59936084]\n",
      " [0.38164181 0.42044926 0.71806381 0.53609931]]\n",
      "*********************\n",
      "\n",
      "[[0.85 0.16 0.03 0.22]\n",
      " [0.56 0.55 0.02 0.03]\n",
      " [0.71 0.28 0.08 0.6 ]\n",
      " [0.38 0.42 0.72 0.54]]\n"
     ]
    }
   ],
   "source": [
    "# Exercise 24\n",
    "a=np.random.rand(4,4)\n",
    "a_round=np.round(a,2)\n",
    "print(a)\n",
    "print(\"*********************\\n\")\n",
    "print(a_round)"
   ]
  },
  {
   "cell_type": "markdown",
   "id": "33eff49a",
   "metadata": {},
   "source": [
    "\n",
    "---\n",
    "\n",
    "### Exercise 25:\n",
    "Find the unique elements of a NumPy array.\n"
   ]
  },
  {
   "cell_type": "code",
   "execution_count": 43,
   "id": "820d6014",
   "metadata": {},
   "outputs": [
    {
     "name": "stdout",
     "output_type": "stream",
     "text": [
      "[0 1 2 3 4 5 6 7 8]\n"
     ]
    }
   ],
   "source": [
    "# Exercise 25\n",
    "y = np.array([1,0,2,3,3,4,5,6,7,8,3,4])\n",
    "y_unique = np.unique(y)\n",
    "print(y_unique)"
   ]
  },
  {
   "cell_type": "markdown",
   "id": "a82dfd26",
   "metadata": {},
   "source": [
    "\n",
    "---\n",
    "\n",
    "### Exercise 26:\n",
    "Replace all elements in a NumPy array that are less than a specific value with that value.\n"
   ]
  },
  {
   "cell_type": "code",
   "execution_count": 44,
   "id": "9317d8ff",
   "metadata": {},
   "outputs": [
    {
     "name": "stdout",
     "output_type": "stream",
     "text": [
      "[ 5  5  5  5  5  6  7  8  9 10]\n"
     ]
    }
   ],
   "source": [
    "# Exercise 26\n",
    "x=np.array([1,2,3,4,5,6,7,8,9,10])\n",
    "x[x <5]=5\n",
    "print(x)"
   ]
  },
  {
   "cell_type": "markdown",
   "id": "0b211e1c",
   "metadata": {},
   "source": [
    "\n",
    "---\n",
    "\n",
    "### Exercise 27:\n",
    "Find the cumulative sum of the elements in a NumPy array.\n"
   ]
  },
  {
   "cell_type": "code",
   "execution_count": 45,
   "id": "d03b7264",
   "metadata": {},
   "outputs": [
    {
     "name": "stdout",
     "output_type": "stream",
     "text": [
      "number is:\n",
      " [0 1 2 3 4]\n",
      "Cumulative sum:\n",
      " [ 0  1  3  6 10]\n"
     ]
    }
   ],
   "source": [
    "# Exercise 27\n",
    "nbr = np.array([0,1,2,3,4])\n",
    "cumulative_sum_of_nbr=np.cumsum(nbr)\n",
    "print('number is:\\n',nbr)\n",
    "print('Cumulative sum:\\n',cumulative_sum_of_nbr)"
   ]
  },
  {
   "cell_type": "markdown",
   "id": "837642b7",
   "metadata": {},
   "source": [
    "\n",
    "---\n",
    "\n",
    "### Exercise 28:\n",
    "Create a NumPy array and find the number of non-zero elements in it.\n"
   ]
  },
  {
   "cell_type": "code",
   "execution_count": 47,
   "id": "fa2565c6",
   "metadata": {},
   "outputs": [
    {
     "name": "stdout",
     "output_type": "stream",
     "text": [
      "[ 5 10  2  1  3  0  4]\n",
      "6\n"
     ]
    }
   ],
   "source": [
    "# Exercise 28\n",
    "c = np.array([5,10,2,1,3,0,4])\n",
    "non_xero_of_c=np.count_nonzero(c)\n",
    "print(c)\n",
    "print(non_xero_of_c)"
   ]
  },
  {
   "cell_type": "markdown",
   "id": "7d1f3704",
   "metadata": {},
   "source": [
    "\n",
    "---\n",
    "\n",
    "### Exercise 29:\n",
    "Create a NumPy array of random integers and sort it in ascending order.\n"
   ]
  },
  {
   "cell_type": "code",
   "execution_count": 48,
   "id": "dfa23a6e",
   "metadata": {},
   "outputs": [
    {
     "name": "stdout",
     "output_type": "stream",
     "text": [
      "[ 4 16 11  1 17  6  2  4 19 15]\n",
      "[ 1  2  4  4  6 11 15 16 17 19]\n"
     ]
    }
   ],
   "source": [
    "# Exercise 29\n",
    "a = np.random.randint(1,20,size=10)\n",
    "Ascending_of_a = np.sort(a)\n",
    "print(a)\n",
    "print(Ascending_of_a)"
   ]
  },
  {
   "cell_type": "markdown",
   "id": "295b7ea8",
   "metadata": {},
   "source": [
    "\n",
    "---\n",
    "\n",
    "### Exercise 30:\n",
    "Find the row-wise and column-wise sum of a 3x3 matrix.\n"
   ]
  },
  {
   "cell_type": "code",
   "execution_count": 49,
   "id": "963df701",
   "metadata": {},
   "outputs": [
    {
     "name": "stdout",
     "output_type": "stream",
     "text": [
      "X is:\n",
      " [[ 2  3  4]\n",
      " [ 5  6  7]\n",
      " [ 8  9 10]]\n",
      "Row wise:\n",
      " [ 9 18 27]\n",
      "Column wise:\n",
      " [15 18 21]\n"
     ]
    }
   ],
   "source": [
    "# Exercise 30\n",
    "x = np.array([[2,3,4],[5,6,7],[8,9,10]])\n",
    "row_wise = np.sum(x,axis=1)\n",
    "column_wise = np.sum(x,axis=0)\n",
    "print('X is:\\n',x)\n",
    "print('Row wise:\\n',row_wise)\n",
    "print('Column wise:\\n',column_wise)"
   ]
  },
  {
   "cell_type": "markdown",
   "id": "158756fa",
   "metadata": {},
   "source": [
    "\n",
    "---\n",
    "\n",
    "### Exercise 31:\n",
    "Generate a 2D NumPy array with random values and normalize it (scale the values between 0 and 1).\n"
   ]
  },
  {
   "cell_type": "code",
   "execution_count": 50,
   "id": "32ba8b29",
   "metadata": {},
   "outputs": [
    {
     "name": "stdout",
     "output_type": "stream",
     "text": [
      "a is:\n",
      " [[16 55 99 43]\n",
      " [11 67 85 50]\n",
      " [66 67 48 86]]\n",
      "*****************************\n",
      "normarlize for a is:\n",
      " [[0.05681818 0.5        1.         0.36363636]\n",
      " [0.         0.63636364 0.84090909 0.44318182]\n",
      " [0.625      0.63636364 0.42045455 0.85227273]]\n"
     ]
    }
   ],
   "source": [
    "# Exercise 31\n",
    "a = np.random.randint(10,100,size=(3,4))\n",
    "a_min = a.min()\n",
    "a_max = a.max()\n",
    "normalize_a=(a - a_min)/(a_max - a_min)\n",
    "print(\"a is:\\n\",a)\n",
    "print(\"*****************************\")\n",
    "print(\"normarlize for a is:\\n\",normalize_a)"
   ]
  },
  {
   "cell_type": "markdown",
   "id": "d3eeceaa",
   "metadata": {},
   "source": [
    "\n",
    "---\n",
    "\n",
    "### Exercise 32:\n",
    "Create two NumPy arrays and find the dot product.\n"
   ]
  },
  {
   "cell_type": "code",
   "execution_count": 51,
   "id": "5722e16b",
   "metadata": {},
   "outputs": [
    {
     "name": "stdout",
     "output_type": "stream",
     "text": [
      "Dot Product is: 14\n"
     ]
    }
   ],
   "source": [
    "# Exercise 32\n",
    "x = np.array([0, 1, 2])\n",
    "y= np.array([3, 4, 5])\n",
    "\n",
    "dot_product = np.dot(x, y)\n",
    "\n",
    "print(\"Dot Product is:\", dot_product)"
   ]
  },
  {
   "cell_type": "markdown",
   "id": "5b0c848f",
   "metadata": {},
   "source": [
    "\n",
    "---\n",
    "\n",
    "### Exercise 33:\n",
    "Find the trace of a square NumPy matrix.\n"
   ]
  },
  {
   "cell_type": "code",
   "execution_count": 52,
   "id": "6d6e90c2",
   "metadata": {},
   "outputs": [
    {
     "name": "stdout",
     "output_type": "stream",
     "text": [
      "Trace of the matrix: 15\n"
     ]
    }
   ],
   "source": [
    "# Exercise 33\n",
    "import numpy as np\n",
    "\n",
    "\n",
    "n = np.array([[1, 2, 3],\n",
    "                   [4, 5, 6],\n",
    "                   [7, 8, 9]])\n",
    "\n",
    "\n",
    "trace_value_ = np.trace(n)\n",
    "\n",
    "print(\"Trace of the matrix:\", trace_value_)\n"
   ]
  },
  {
   "cell_type": "markdown",
   "id": "74f1f77e",
   "metadata": {},
   "source": [
    "\n",
    "---\n",
    "\n",
    "### Exercise 34:\n",
    "Create a 2D array and swap two rows.\n"
   ]
  },
  {
   "cell_type": "code",
   "execution_count": 55,
   "id": "24621129",
   "metadata": {},
   "outputs": [
    {
     "name": "stdout",
     "output_type": "stream",
     "text": [
      "Original array:\n",
      "[[15 25 35]\n",
      " [45 55 65]\n",
      " [75 85 95]]\n",
      "\n",
      "Array after swapping row 0 and row 3:\n",
      "[[75 85 95]\n",
      " [45 55 65]\n",
      " [15 25 35]]\n"
     ]
    }
   ],
   "source": [
    "# Exercise 34\n",
    "array_of_2d = np.array([[15, 25, 35],\n",
    "                     [45, 55, 65],\n",
    "                     [75, 85, 95]])\n",
    "\n",
    "print(\"Original array:\")\n",
    "print(array_of_2d)\n",
    "\n",
    "\n",
    "array_of_2d[[0, 2]] = array_of_2d[[2, 0]]\n",
    "\n",
    "print(\"\\nArray after swapping row 0 and row 3:\")\n",
    "print(array_of_2d)"
   ]
  },
  {
   "cell_type": "markdown",
   "id": "7875d348",
   "metadata": {},
   "source": [
    "\n",
    "---\n",
    "\n",
    "### Exercise 35:\n",
    "Create a 1D NumPy array and convert it into a column vector.\n"
   ]
  },
  {
   "cell_type": "code",
   "execution_count": 56,
   "id": "0039acda",
   "metadata": {},
   "outputs": [
    {
     "name": "stdout",
     "output_type": "stream",
     "text": [
      "Column vector is:\n",
      "[[0]\n",
      " [1]\n",
      " [2]\n",
      " [3]\n",
      " [4]]\n"
     ]
    }
   ],
   "source": [
    "# Exercise 35\n",
    "array_of_1d = np.array([0, 1, 2, 3, 4])\n",
    "\n",
    "column_vector = array_of_1d.reshape(-1, 1)\n",
    "\n",
    "print(\"Column vector is:\")\n",
    "print(column_vector)"
   ]
  },
  {
   "cell_type": "markdown",
   "id": "234e605c",
   "metadata": {},
   "source": [
    "\n",
    "---\n",
    "\n",
    "### Exercise 36:\n",
    "Find the determinant of a 3x3 matrix.\n"
   ]
  },
  {
   "cell_type": "code",
   "execution_count": 57,
   "id": "9798d9c7",
   "metadata": {},
   "outputs": [
    {
     "name": "stdout",
     "output_type": "stream",
     "text": [
      "Determinant is: -16.999999999999993\n"
     ]
    }
   ],
   "source": [
    "# Exercise 36\n",
    "matrix = np.array([[1, 4, 3],\n",
    "                   [2, -2, -1],\n",
    "                   [1, 3, 4]])\n",
    "\n",
    "determinant = np.linalg.det(matrix)\n",
    "\n",
    "print(\"Determinant is:\", determinant)"
   ]
  },
  {
   "cell_type": "markdown",
   "id": "6656af00",
   "metadata": {},
   "source": [
    "\n",
    "---\n",
    "\n",
    "### Exercise 37:\n",
    "Find the eigenvalues and eigenvectors of a 2x2 matrix.\n"
   ]
  },
  {
   "cell_type": "code",
   "execution_count": 58,
   "id": "89d64421",
   "metadata": {},
   "outputs": [
    {
     "name": "stdout",
     "output_type": "stream",
     "text": [
      "Eigenvalues are:\n",
      "[2. 5.]\n",
      "\n",
      "Eigenvectors are:\n",
      "[[-0.89442719 -0.70710678]\n",
      " [ 0.4472136  -0.70710678]]\n"
     ]
    }
   ],
   "source": [
    "# Exercise 37\n",
    "matrix = np.array([[3, 2],\n",
    "                   [1, 4]])\n",
    "\n",
    "eigenvalues, eigenvectors = np.linalg.eig(matrix)\n",
    "\n",
    "print(\"Eigenvalues are:\")\n",
    "print(eigenvalues)\n",
    "\n",
    "print(\"\\nEigenvectors are:\")\n",
    "print(eigenvectors)"
   ]
  },
  {
   "cell_type": "markdown",
   "id": "7dc92bbb",
   "metadata": {},
   "source": [
    "\n",
    "---\n",
    "\n",
    "### Exercise 38:\n",
    "Solve a system of linear equations using NumPy.\n"
   ]
  },
  {
   "cell_type": "code",
   "execution_count": 61,
   "id": "9aad2d7e",
   "metadata": {},
   "outputs": [
    {
     "name": "stdout",
     "output_type": "stream",
     "text": [
      "result [n, m]: [0.5 2. ]\n"
     ]
    }
   ],
   "source": [
    "# Exercise 38\n",
    "x = np.array([[2, 4],\n",
    "              [4, 5]])\n",
    "\n",
    "y = np.array([9, 12])\n",
    "\n",
    "result = np.linalg.solve(x, y)\n",
    "\n",
    "print(\"result [n, m]:\", result)"
   ]
  },
  {
   "cell_type": "markdown",
   "id": "4f146ae7",
   "metadata": {},
   "source": [
    "\n",
    "---\n",
    "\n",
    "### Exercise 39:\n",
    "Add Gaussian noise to a NumPy array.\n"
   ]
  },
  {
   "cell_type": "code",
   "execution_count": 62,
   "id": "1162c82d",
   "metadata": {},
   "outputs": [
    {
     "name": "stdout",
     "output_type": "stream",
     "text": [
      "Original array: [10 20 30 40 50]\n",
      "Noise: [-2.29718805  1.32376354  0.1418216  -0.61023318 -0.28041999]\n",
      "Noisy array: [ 7.70281195 21.32376354 30.1418216  39.38976682 49.71958001]\n"
     ]
    }
   ],
   "source": [
    "# Exercise 39\n",
    "original_array = np.array([10, 20, 30, 40, 50])\n",
    "\n",
    "mean = 0       \n",
    "std_dev = 2   \n",
    "\n",
    "noise = np.random.normal(mean, std_dev, original_array.shape)\n",
    "\n",
    "noisy_array = original_array + noise\n",
    "\n",
    "print(\"Original array:\", original_array)\n",
    "print(\"Noise:\", noise)\n",
    "print(\"Noisy array:\", noisy_array)"
   ]
  },
  {
   "cell_type": "markdown",
   "id": "24f6d12f",
   "metadata": {},
   "source": [
    "\n",
    "---\n",
    "\n",
    "### Exercise 40:\n",
    "Create a 4x4 matrix and extract the diagonal elements.\n"
   ]
  },
  {
   "cell_type": "code",
   "execution_count": 63,
   "id": "228d823c",
   "metadata": {},
   "outputs": [
    {
     "name": "stdout",
     "output_type": "stream",
     "text": [
      "Original matrix is :\n",
      "[[ 1  2  3  4]\n",
      " [ 5  6  7  8]\n",
      " [ 9 10 11 12]\n",
      " [13 14 15 16]]\n",
      "\n",
      "Diagonal elements are:\n",
      "[ 1  6 11 16]\n"
     ]
    }
   ],
   "source": [
    "# Exercise 40\n",
    "matrix_ = np.array([[1, 2, 3, 4],\n",
    "                   [5, 6, 7, 8],\n",
    "                   [9, 10, 11, 12],\n",
    "                   [13, 14, 15, 16]])\n",
    "\n",
    "diagonal_elements = np.diag(matrix_)\n",
    "\n",
    "print(\"Original matrix is :\")\n",
    "print(matrix_)\n",
    "\n",
    "print(\"\\nDiagonal elements are:\")\n",
    "print(diagonal_elements)\n"
   ]
  },
  {
   "cell_type": "markdown",
   "id": "6fe4e0e1",
   "metadata": {},
   "source": [
    "\n",
    "---\n",
    "\n",
    "### Exercise 41:\n",
    "Generate a NumPy array of 100 random values and clip the values to a range between 10 and 50.\n"
   ]
  },
  {
   "cell_type": "code",
   "execution_count": 64,
   "id": "250c818c",
   "metadata": {},
   "outputs": [
    {
     "name": "stdout",
     "output_type": "stream",
     "text": [
      "[44 24 31 40 27 32 26 42 44 36 37 30 44 42 34 31 27 31 21 10 28 36 27 23\n",
      " 49 22 21 33 29 40 18 19 31 31 14 32 38 30 21 28 19 45 19 23 17 32 39 36\n",
      " 49 21 10 39 44 14 18 10 42 41 49 41 30 36 25 34 37 19 25 37 23 49 14 22\n",
      " 36 34 20 16 11 15 24 24 40 47 19 46 33 22 46 28 35 16 48 20 34 15 48 37\n",
      " 18 12 34 48]\n",
      "100\n"
     ]
    }
   ],
   "source": [
    "# Exercise 41\n",
    "from_=10\n",
    "to_=50\n",
    "size=100\n",
    "x=np.random.randint(from_,to_,size)\n",
    "print(x)\n",
    "print(len(x))"
   ]
  },
  {
   "cell_type": "markdown",
   "id": "0aa4963a",
   "metadata": {},
   "source": [
    "\n",
    "---\n",
    "\n",
    "### Exercise 42:\n",
    "Create a 2D NumPy array and replace all negative values with zero.\n"
   ]
  },
  {
   "cell_type": "code",
   "execution_count": 65,
   "id": "c33cf5e2",
   "metadata": {},
   "outputs": [
    {
     "name": "stdout",
     "output_type": "stream",
     "text": [
      "[[2 0 0]\n",
      " [0 6 0]]\n"
     ]
    }
   ],
   "source": [
    "# Exercise 42\n",
    "x = np.array([[2,-3,-2],[-1,6,-4]])\n",
    "x[x <0] = 0\n",
    "print(x)"
   ]
  },
  {
   "cell_type": "markdown",
   "id": "9902ee70",
   "metadata": {},
   "source": [
    "\n",
    "---\n",
    "\n",
    "### Exercise 43:\n",
    "Find the inner and outer products of two NumPy arrays.\n"
   ]
  },
  {
   "cell_type": "code",
   "execution_count": 67,
   "id": "36f488c8",
   "metadata": {},
   "outputs": [
    {
     "name": "stdout",
     "output_type": "stream",
     "text": [
      "Inner product is: 32\n",
      "\n",
      "Outer product are:\n",
      " [[ 4  5  6]\n",
      " [ 8 10 12]\n",
      " [12 15 18]]\n"
     ]
    }
   ],
   "source": [
    "# Exercise 43\n",
    "x = np.array([1, 2, 3])\n",
    "y = np.array([4, 5, 6])\n",
    "\n",
    "inner_product=np.inner(x,y)\n",
    "outer_product=np.outer(x,y)\n",
    "\n",
    "print(\"Inner product is:\", inner_product)\n",
    "print(\"\\nOuter product are:\\n\", outer_product)"
   ]
  },
  {
   "cell_type": "markdown",
   "id": "7dce9fa3",
   "metadata": {},
   "source": [
    "\n",
    "---\n",
    "\n",
    "### Exercise 44:\n",
    "Calculate the pairwise distances between points in a NumPy array.\n"
   ]
  },
  {
   "cell_type": "code",
   "execution_count": 71,
   "id": "94067655",
   "metadata": {},
   "outputs": [
    {
     "name": "stdout",
     "output_type": "stream",
     "text": [
      "Pairwise distance matrix are:\n",
      "[[0.         1.41421356 2.        ]\n",
      " [1.41421356 0.         1.41421356]\n",
      " [2.         1.41421356 0.        ]]\n"
     ]
    }
   ],
   "source": [
    "# Exercise 44\n",
    "from scipy.spatial import distance_matrix\n",
    "p = np.array([[0, 0],\n",
    "                   [1, 1],\n",
    "                   [2, 0]])\n",
    "dist_matrix = distance_matrix(p, p)\n",
    "\n",
    "print(\"Pairwise distance matrix are:\")\n",
    "print(dist_matrix)"
   ]
  },
  {
   "cell_type": "markdown",
   "id": "d4b272d3",
   "metadata": {},
   "source": [
    "\n",
    "---\n",
    "\n",
    "### Exercise 45:\n",
    "Create a structured NumPy array with fields for `name`, `age`, and `height`.\n"
   ]
  },
  {
   "cell_type": "code",
   "execution_count": 76,
   "id": "9b18e4f0",
   "metadata": {},
   "outputs": [
    {
     "name": "stdout",
     "output_type": "stream",
     "text": [
      "[('Ange', 24, 6.5) ('Lex', 31, 5. ) ('Aime', 24, 6.8)]\n"
     ]
    }
   ],
   "source": [
    "# Exercise 45\n",
    "person = np.dtype([('name', 'U20'), \n",
    "                         ('age', 'i4'),    \n",
    "                         ('height', 'f4')]) \n",
    "\n",
    "people = np.array([('Ange', 24, 6.5),\n",
    "                   ('Lex', 31, 5.0),\n",
    "                   ('Aime', 24, 6.8)], dtype=person)\n",
    "\n",
    "print(people)"
   ]
  },
  {
   "cell_type": "markdown",
   "id": "577f3e80",
   "metadata": {},
   "source": [
    "\n",
    "---\n",
    "\n",
    "### Exercise 46:\n",
    "Create a 5x5 matrix of random integers and count the occurrences of each unique value.\n"
   ]
  },
  {
   "cell_type": "code",
   "execution_count": 77,
   "id": "639b01fd",
   "metadata": {},
   "outputs": [
    {
     "name": "stdout",
     "output_type": "stream",
     "text": [
      "Matrix is:\n",
      "[[ 6  5 10  4  3]\n",
      " [ 9 10  3  2  1]\n",
      " [ 8  9  6  6  6]\n",
      " [ 1  7  6  2  4]\n",
      " [ 5  4  2  9  4]]\n",
      "Value 1 occurs 2 times\n",
      "Value 2 occurs 3 times\n",
      "Value 3 occurs 2 times\n",
      "Value 4 occurs 4 times\n",
      "Value 5 occurs 2 times\n",
      "Value 6 occurs 5 times\n",
      "Value 7 occurs 1 times\n",
      "Value 8 occurs 1 times\n",
      "Value 9 occurs 3 times\n",
      "Value 10 occurs 2 times\n"
     ]
    }
   ],
   "source": [
    "# Exercise 46\n",
    "matrix = np.random.randint(1, 11, size=(5, 5))\n",
    "\n",
    "print(\"Matrix is:\")\n",
    "print(matrix)\n",
    "\n",
    "unique_values, counts = np.unique(matrix, return_counts=True)\n",
    "\n",
    "for val, count in zip(unique_values, counts):\n",
    "    print(f\"Value {val} occurs {count} times\")"
   ]
  },
  {
   "cell_type": "markdown",
   "id": "e716555f",
   "metadata": {},
   "source": [
    "\n",
    "---\n",
    "\n",
    "### Exercise 47:\n",
    "Generate a random 3x3 NumPy array and subtract the mean of each row from the corresponding row.\n"
   ]
  },
  {
   "cell_type": "code",
   "execution_count": 80,
   "id": "03747d27",
   "metadata": {},
   "outputs": [
    {
     "name": "stdout",
     "output_type": "stream",
     "text": [
      "Array is:\n",
      " [[0.01549463 0.96097016 0.08690142]\n",
      " [0.37700808 0.28991636 0.96035493]\n",
      " [0.43451006 0.05851731 0.6548254 ]]\n",
      "*************************\n",
      "Mean is\n",
      " [[0.3544554 ]\n",
      " [0.54242646]\n",
      " [0.38261759]]\n",
      "**************************\n",
      "solution is:\n",
      " [[-0.33896077  0.60651475 -0.26755398]\n",
      " [-0.16541838 -0.25251009  0.41792848]\n",
      " [ 0.05189247 -0.32410028  0.27220781]]\n"
     ]
    }
   ],
   "source": [
    "# Exercise 47\n",
    "array_ = np.random.rand(3, 3)\n",
    "row_means = array_.mean(axis=1, keepdims=True)\n",
    "solution = array_ - row_means\n",
    "print('Array is:\\n',array_)\n",
    "print(\"*************************\")\n",
    "print(\"Mean is\\n\",row_means)\n",
    "print(\"**************************\")\n",
    "print(\"solution is:\\n\",solution)"
   ]
  },
  {
   "cell_type": "markdown",
   "id": "89148fb1",
   "metadata": {},
   "source": [
    "\n",
    "---\n",
    "\n",
    "### Exercise 48:\n",
    "Create a NumPy array of random integers and check if any of the values are greater than 50.\n"
   ]
  },
  {
   "cell_type": "code",
   "execution_count": 81,
   "id": "d329ca63",
   "metadata": {},
   "outputs": [
    {
     "name": "stdout",
     "output_type": "stream",
     "text": [
      "[ 66  27 197 115  18   1 183  89  63  18]\n",
      "Any values greater than 50: True\n"
     ]
    }
   ],
   "source": [
    "# Exercise 48\n",
    "array_ = np.random.randint(0, 200, size=10)\n",
    "any_greater_than_50 = np.any(array_ > 50)\n",
    "\n",
    "print(array_)\n",
    "print(\"Any values greater than 50:\", any_greater_than_50)"
   ]
  },
  {
   "cell_type": "markdown",
   "id": "806622f5",
   "metadata": {},
   "source": [
    "\n",
    "---\n",
    "\n",
    "### Exercise 49:\n",
    "Calculate the moving average of a 1D NumPy array.\n"
   ]
  },
  {
   "cell_type": "code",
   "execution_count": 82,
   "id": "866232ff",
   "metadata": {},
   "outputs": [
    {
     "name": "stdout",
     "output_type": "stream",
     "text": [
      "[1.33333333 2.66666667 4.         5.         6.         7.\n",
      " 8.        ]\n"
     ]
    }
   ],
   "source": [
    "# Exercise 49\n",
    "def moving_average(array_, window_size):\n",
    "    return np.convolve(array_, np.ones(window_size)/window_size, mode='valid')\n",
    "\n",
    "array_ = np.array([0, 1, 3, 4, 5, 6, 7, 8, 9])\n",
    "window_size = 3\n",
    "m = moving_average(array_, window_size)\n",
    "\n",
    "print(m)"
   ]
  },
  {
   "cell_type": "markdown",
   "id": "9313446b",
   "metadata": {},
   "source": [
    "\n",
    "---\n",
    "\n",
    "### Exercise 50:\n",
    "Find the Pearson correlation coefficient between two NumPy arrays.\n"
   ]
  },
  {
   "cell_type": "code",
   "execution_count": 83,
   "id": "09c184ab",
   "metadata": {},
   "outputs": [
    {
     "name": "stdout",
     "output_type": "stream",
     "text": [
      "Pearson correlation coefficient is: -0.9999999999999999\n"
     ]
    }
   ],
   "source": [
    "# Exercise 50\n",
    "a = np.array([1, 2, 3, 4, 5])\n",
    "b = np.array([5, 4, 3, 2, 1])\n",
    "\n",
    "correlation = np.corrcoef(a, b)[0, 1]\n",
    "\n",
    "\n",
    "print(\"Pearson correlation coefficient is:\", correlation)"
   ]
  },
  {
   "cell_type": "markdown",
   "id": "8ee11395",
   "metadata": {},
   "source": [
    "\n",
    "---\n",
    "\n",
    "### Exercise 51:\n",
    "Convert a NumPy array of radians to degrees.\n"
   ]
  },
  {
   "cell_type": "code",
   "execution_count": 84,
   "id": "34ac5b8c",
   "metadata": {},
   "outputs": [
    {
     "name": "stdout",
     "output_type": "stream",
     "text": [
      "[  0.  90. 180. 270. 360.]\n"
     ]
    }
   ],
   "source": [
    "# Exercise 51\n",
    "rad = np.array([0, np.pi/2, np.pi, 3*np.pi/2, 2*np.pi])\n",
    "degr = np.degrees(rad)\n",
    "\n",
    "print(degr)"
   ]
  },
  {
   "cell_type": "markdown",
   "id": "f4fd9563",
   "metadata": {},
   "source": [
    "\n",
    "---\n",
    "\n",
    "### Exercise 52:\n",
    "Create a random NumPy array and compute its variance and standard deviation.\n"
   ]
  },
  {
   "cell_type": "code",
   "execution_count": 85,
   "id": "0559791a",
   "metadata": {},
   "outputs": [
    {
     "name": "stdout",
     "output_type": "stream",
     "text": [
      "Array is: [0.96859415 0.64464826 0.48643883 0.77572987 0.61839849 0.61840521\n",
      " 0.2786847  0.33392322 0.04364096 0.03858797 0.47812066 0.22069565\n",
      " 0.16871404 0.51124683 0.92632226]\n",
      "Variance is: 0.08017118588816716\n",
      "Standard Deviation is: 0.28314516751688906\n"
     ]
    }
   ],
   "source": [
    "# Exercise 52\n",
    "arr = np.random.rand(15)\n",
    "variance = np.var(arr)\n",
    "std_dev = np.std(arr)\n",
    "\n",
    "print(\"Array is:\", arr)\n",
    "print(\"Variance is:\", variance)\n",
    "print(\"Standard Deviation is:\", std_dev)"
   ]
  },
  {
   "cell_type": "markdown",
   "id": "b5bed93d",
   "metadata": {},
   "source": [
    "\n",
    "---\n",
    "\n",
    "### Exercise 53:\n",
    "Create a 2D NumPy array and find the indices of the maximum values along each axis.\n"
   ]
  },
  {
   "cell_type": "code",
   "execution_count": 86,
   "id": "37168529",
   "metadata": {},
   "outputs": [
    {
     "name": "stdout",
     "output_type": "stream",
     "text": [
      "Array is:\n",
      " [[0.65601972 0.65441511 0.87001857 0.69122968 0.99942541 0.07951424]\n",
      " [0.68325981 0.33931326 0.86153882 0.67588866 0.84584756 0.30703347]\n",
      " [0.68611507 0.1997683  0.43538075 0.81101969 0.31939736 0.56890843]\n",
      " [0.27785488 0.34224983 0.72439738 0.79436665 0.27427822 0.43677284]\n",
      " [0.39745808 0.26302382 0.89986324 0.68826907 0.38643758 0.79726688]]\n",
      "Indices of max values along axis 0: [2 0 4 2 0 4]\n",
      "Indices of max values along axis 1: [4 2 3 3 2]\n"
     ]
    }
   ],
   "source": [
    "# Exercise 53\n",
    "array_ = np.random.rand(5, 6)\n",
    "max_indices_axis0 = np.argmax(array_, axis=0)\n",
    "max_indices_axis1 = np.argmax(array_, axis=1)\n",
    "\n",
    "print(\"Array is:\\n\", array_)\n",
    "print(\"Indices of max values along axis 0:\", max_indices_axis0)\n",
    "print(\"Indices of max values along axis 1:\", max_indices_axis1)"
   ]
  },
  {
   "cell_type": "markdown",
   "id": "fd672293",
   "metadata": {},
   "source": [
    "\n",
    "---\n",
    "\n",
    "### Exercise 54:\n",
    "Compute the inverse of a 2x2 NumPy matrix.\n"
   ]
  },
  {
   "cell_type": "code",
   "execution_count": 87,
   "id": "d9eebfee",
   "metadata": {},
   "outputs": [
    {
     "name": "stdout",
     "output_type": "stream",
     "text": [
      "Inverse matrix is:\n",
      "[[ 0.66666667 -0.77777778]\n",
      " [-0.33333333  0.55555556]]\n"
     ]
    }
   ],
   "source": [
    "# Exercise 54\n",
    "matrix = np.array([[5, 7],\n",
    "                   [3, 6]])\n",
    "\n",
    "inverse = np.linalg.inv(matrix)\n",
    "\n",
    "print(\"Inverse matrix is:\")\n",
    "print(inverse)"
   ]
  },
  {
   "cell_type": "markdown",
   "id": "d635d87b",
   "metadata": {},
   "source": [
    "\n",
    "---\n",
    "\n",
    "### Exercise 55:\n",
    "Create a NumPy array of 10 random values and standardize it (mean 0, variance 1).\n"
   ]
  },
  {
   "cell_type": "code",
   "execution_count": 89,
   "id": "dc8ffa7d",
   "metadata": {},
   "outputs": [
    {
     "name": "stdout",
     "output_type": "stream",
     "text": [
      "Original array is: [0.9449394  0.82399021 0.76417912 0.99567668 0.2717485  0.28273254\n",
      " 0.48190058 0.7858364  0.24768673 0.36280964]\n",
      "Standardized array is: [ 1.24109761  0.81072402  0.59789819  1.42163611 -1.15431798 -1.11523347\n",
      " -0.40653371  0.67496133 -1.23993699 -0.83029509]\n"
     ]
    }
   ],
   "source": [
    "# Exercise 55\n",
    "arr = np.random.rand(10)\n",
    "standardized = (arr - np.mean(arr)) / np.std(arr)\n",
    "\n",
    "print(\"Original array is:\", arr)\n",
    "print(\"Standardized array is:\", standardized)"
   ]
  },
  {
   "cell_type": "markdown",
   "id": "6db1e281",
   "metadata": {},
   "source": [
    "\n",
    "---\n",
    "\n",
    "### Exercise 56:\n",
    "Perform element-wise addition and subtraction on two NumPy arrays.\n"
   ]
  },
  {
   "cell_type": "code",
   "execution_count": 90,
   "id": "e8d4d852",
   "metadata": {},
   "outputs": [
    {
     "name": "stdout",
     "output_type": "stream",
     "text": [
      "Addition: [5 7 9]\n",
      "Subtraction: [-3 -3 -3]\n"
     ]
    }
   ],
   "source": [
    "# Exercise 56\n",
    "x = np.array([1, 2, 3])\n",
    "y = np.array([4, 5, 6])\n",
    "\n",
    "addition = x + y\n",
    "subtraction = x - y\n",
    "\n",
    "print(\"Addition:\", addition)\n",
    "print(\"Subtraction:\", subtraction)"
   ]
  },
  {
   "cell_type": "markdown",
   "id": "843ba956",
   "metadata": {},
   "source": [
    "\n",
    "---\n",
    "\n",
    "### Exercise 57:\n",
    "Create a NumPy array of random values and find the maximum element's index.\n"
   ]
  },
  {
   "cell_type": "code",
   "execution_count": 118,
   "id": "e4cbc318",
   "metadata": {},
   "outputs": [
    {
     "name": "stdout",
     "output_type": "stream",
     "text": [
      "Array: [0.49119605 0.01193675 0.71481856 0.71081121 0.21428402 0.54149661\n",
      " 0.9760695  0.32759892 0.48361486 0.61954409]\n",
      "Index of maximum element: 6\n"
     ]
    }
   ],
   "source": [
    "# Exercise 57\n",
    "arr = np.random.rand(10)\n",
    "max_index = np.argmax(arr)\n",
    "\n",
    "print(\"Array:\", arr)\n",
    "print(\"Index of maximum element:\", max_index)"
   ]
  },
  {
   "cell_type": "markdown",
   "id": "e8356250",
   "metadata": {},
   "source": [
    "\n",
    "---\n",
    "\n",
    "### Exercise 58:\n",
    "Create a 3x3 NumPy array and rotate it by 90 degrees.\n"
   ]
  },
  {
   "cell_type": "code",
   "execution_count": 92,
   "id": "f80c6616",
   "metadata": {},
   "outputs": [
    {
     "name": "stdout",
     "output_type": "stream",
     "text": [
      "[[4 6 6]\n",
      " [2 5 8]\n",
      " [0 9 7]]\n"
     ]
    }
   ],
   "source": [
    "# Exercise 58\n",
    "array_ = np.array([[0, 2, 4],\n",
    "                [9, 5, 6],\n",
    "                [7, 8, 6]])\n",
    "\n",
    "rotated = np.rot90(array_)\n",
    "\n",
    "print(rotated)"
   ]
  },
  {
   "cell_type": "markdown",
   "id": "5bdbf96d",
   "metadata": {},
   "source": [
    "\n",
    "---\n",
    "\n",
    "### Exercise 59:\n",
    "Compute the Frobenius norm of a matrix.\n"
   ]
  },
  {
   "cell_type": "code",
   "execution_count": 93,
   "id": "bb81b41a",
   "metadata": {},
   "outputs": [
    {
     "name": "stdout",
     "output_type": "stream",
     "text": [
      "Frobenius norm: 7.3484692283495345\n"
     ]
    }
   ],
   "source": [
    "# Exercise 59\n",
    "matrix = np.array([[3, 2],\n",
    "                   [5, 4]])\n",
    "\n",
    "frobenius_norm = np.linalg.norm(matrix, 'fro')\n",
    "\n",
    "print(\"Frobenius norm:\", frobenius_norm)"
   ]
  },
  {
   "cell_type": "markdown",
   "id": "9388b0db",
   "metadata": {},
   "source": [
    "\n",
    "---\n",
    "\n",
    "### Exercise 60:\n",
    "Create a 3D NumPy array and slice out a subarray.\n"
   ]
  },
  {
   "cell_type": "code",
   "execution_count": 94,
   "id": "f051d3a2",
   "metadata": {},
   "outputs": [
    {
     "name": "stdout",
     "output_type": "stream",
     "text": [
      "Original array is:\n",
      " [0.9449394  0.82399021 0.76417912 0.99567668 0.2717485  0.28273254\n",
      " 0.48190058 0.7858364  0.24768673 0.36280964]\n",
      "\n",
      "Sliced subarray is:\n",
      " [[[10 11]\n",
      "  [13 14]]\n",
      "\n",
      " [[19 20]\n",
      "  [22 23]]]\n"
     ]
    }
   ],
   "source": [
    "# Exercise 60\n",
    "array_ = np.arange(27).reshape((3, 3, 3))\n",
    "\n",
    "subarray = array_[1:, :2, 1:]\n",
    "\n",
    "print(\"Original array is:\\n\", arr)\n",
    "print(\"\\nSliced subarray is:\\n\", subarray)"
   ]
  },
  {
   "cell_type": "markdown",
   "id": "9cb79001",
   "metadata": {},
   "source": [
    "\n",
    "---"
   ]
  }
 ],
 "metadata": {
  "kernelspec": {
   "display_name": "Python 3 (ipykernel)",
   "language": "python",
   "name": "python3"
  },
  "language_info": {
   "codemirror_mode": {
    "name": "ipython",
    "version": 3
   },
   "file_extension": ".py",
   "mimetype": "text/x-python",
   "name": "python",
   "nbconvert_exporter": "python",
   "pygments_lexer": "ipython3",
   "version": "3.11.7"
  }
 },
 "nbformat": 4,
 "nbformat_minor": 5
}
