{
 "cells": [
  {
   "cell_type": "markdown",
   "id": "426486dd",
   "metadata": {},
   "source": [
    "# Practical_1: Variables and Assignments"
   ]
  },
  {
   "cell_type": "markdown",
   "id": "0a0b7129-f838-44cb-acc2-ecabfebd5dac",
   "metadata": {},
   "source": [
    "----\n",
    "\n",
    "### Exercise 1:\n",
    "Declare a variable `x` and assign it the value `10`.\n",
    "\n",
    "```python\n",
    "# Exercise 1\n",
    "```\n",
    "\n",
    "---\n",
    "\n",
    "### Exercise 2:\n",
    "Assign the value `True` to a variable called `is_valid`.\n",
    "\n",
    "```python\n",
    "# Exercise 2\n",
    "```\n",
    "\n",
    "---\n",
    "\n",
    "### Exercise 3:\n",
    "Create a string variable `name` with the value \"Python Programming\".\n",
    "\n",
    "```python\n",
    "# Exercise 3\n",
    "```\n",
    "\n",
    "---\n",
    "\n",
    "### Exercise 4:\n",
    "Assign the result of `5 + 3` to a variable `sum_result`.\n",
    "\n",
    "```python\n",
    "# Exercise 4\n",
    "```\n",
    "\n",
    "---\n",
    "\n",
    "### Exercise 5:\n",
    "Assign multiple variables in one line: `a = 5`, `b = 10`, `c = 15`.\n",
    "\n",
    "```python\n",
    "# Exercise 5\n",
    "```\n",
    "\n",
    "---\n",
    "\n",
    "### Exercise 6:\n",
    "Assign the value of one variable `x` to another variable `y`.\n",
    "\n",
    "```python\n",
    "# Exercise 6\n",
    "```\n",
    "\n",
    "---\n",
    "\n",
    "### Exercise 7:\n",
    "Assign a floating-point number `9.8` to a variable `gravity`.\n",
    "\n",
    "```python\n",
    "# Exercise 7\n",
    "```\n",
    "\n",
    "---\n",
    "\n",
    "### Exercise 8:\n",
    "Create a variable `country` and assign it the string value of your favorite country.\n",
    "\n",
    "```python\n",
    "# Exercise 8\n",
    "```\n",
    "\n",
    "---\n",
    "\n",
    "### Exercise 9:\n",
    "Change the value of variable `age` from `25` to `26` in two separate steps.\n",
    "\n",
    "```python\n",
    "# Exercise 9\n",
    "```\n",
    "\n",
    "---\n",
    "\n",
    "### Exercise 10:\n",
    "Use one variable to store the result of subtracting two numbers `20 - 7`.\n",
    "\n",
    "```python\n",
    "# Exercise 10\n",
    "```\n",
    "\n",
    "---\n",
    "\n",
    "### Exercise 11:\n",
    "Assign an integer value and a floating-point value to two different variables.\n",
    "\n",
    "```python\n",
    "# Exercise 11\n",
    "```\n",
    "\n",
    "---\n",
    "\n",
    "### Exercise 12:\n",
    "Assign a boolean value `False` to a variable `is_completed`.\n",
    "\n",
    "```python\n",
    "# Exercise 12\n",
    "```\n",
    "\n",
    "---\n",
    "\n",
    "### Exercise 13:\n",
    "Swap the values of two variables `x` and `y`.\n",
    "\n",
    "```python\n",
    "# Exercise 13\n",
    "```\n",
    "\n",
    "---\n",
    "\n",
    "### Exercise 14:\n",
    "Assign a complex number `3 + 4j` to a variable `complex_num`.\n",
    "\n",
    "```python\n",
    "# Exercise 14\n",
    "```\n",
    "\n",
    "---\n",
    "\n",
    "### Exercise 15:\n",
    "Reassign a variable from an integer to a string.\n",
    "\n",
    "```python\n",
    "# Exercise 15\n",
    "```\n",
    "\n",
    "---\n",
    "\n",
    "### Exercise 16:\n",
    "Create two variables `first_name` and `last_name`, and assign them your first and last names.\n",
    "\n",
    "```python\n",
    "# Exercise 16\n",
    "```\n",
    "\n",
    "---\n",
    "\n",
    "### Exercise 17:\n",
    "Create a variable `temperature` and assign it the value of `35.5`.\n",
    "\n",
    "```python\n",
    "# Exercise 17\n",
    "```\n",
    "\n",
    "---\n",
    "\n",
    "### Exercise 18:\n",
    "Assign the result of the multiplication of two numbers `8 * 6` to a variable `product`.\n",
    "\n",
    "```python\n",
    "# Exercise 18\n",
    "```\n",
    "\n",
    "---\n",
    "\n",
    "### Exercise 19:\n",
    "Assign a sentence of your choice to a variable `sentence`.\n",
    "\n",
    "```python\n",
    "# Exercise 19\n",
    "```\n",
    "\n",
    "---\n",
    "\n",
    "### Exercise 20:\n",
    "Use an assignment to convert a string `'50'` into an integer variable `int_value`.\n",
    "\n",
    "```python\n",
    "# Exercise 20\n",
    "```\n",
    "\n",
    "---\n",
    "\n",
    "### Exercise 21:\n",
    "Assign the result of dividing `144` by `12` to a variable `quotient`.\n",
    "\n",
    "```python\n",
    "# Exercise 21\n",
    "```\n",
    "\n",
    "---\n",
    "\n",
    "### Exercise 22:\n",
    "Assign the remainder of `47 divided by 5` to a variable `remainder`.\n",
    "\n",
    "```python\n",
    "# Exercise 22\n",
    "```\n",
    "\n",
    "---\n",
    "\n",
    "### Exercise 23:\n",
    "Create a variable `is_student` and assign it the value `True`.\n",
    "\n",
    "```python\n",
    "# Exercise 23\n",
    "```\n",
    "\n",
    "---\n",
    "\n",
    "### Exercise 24:\n",
    "Use a variable to store the result of a modulo operation: `45 % 4`.\n",
    "\n",
    "```python\n",
    "# Exercise 24\n",
    "```\n",
    "\n",
    "---\n",
    "\n",
    "### Exercise 25:\n",
    "Create a variable `pi` and assign it the value `3.14159`.\n",
    "\n",
    "```python\n",
    "# Exercise 25\n",
    "```\n",
    "\n",
    "---\n",
    "\n",
    "### Exercise 26:\n",
    "Create two variables `length` and `width`, assign them values, and calculate the area of a rectangle.\n",
    "\n",
    "```python\n",
    "# Exercise 26\n",
    "```\n",
    "\n",
    "---\n",
    "\n",
    "### Exercise 27:\n",
    "Assign a negative number to a variable `negative_value`.\n",
    "\n",
    "```python\n",
    "# Exercise 27\n",
    "```\n",
    "\n",
    "---\n",
    "\n",
    "### Exercise 28:\n",
    "Assign a string containing a special character (e.g., \"Hello, World!\") to a variable `greeting`.\n",
    "\n",
    "```python\n",
    "# Exercise 28\n",
    "```\n",
    "\n",
    "---\n",
    "\n",
    "### Exercise 29:\n",
    "Create a variable `population` and assign it a large integer value (in billions).\n",
    "\n",
    "```python\n",
    "# Exercise 29\n",
    "```\n",
    "\n",
    "---\n",
    "\n",
    "### Exercise 30:\n",
    "Use a variable to store the result of raising `2` to the power of `8`.\n",
    "\n",
    "```python\n",
    "# Exercise 30\n",
    "```\n",
    "\n",
    "---\n",
    "\n",
    "### Exercise 31:\n",
    "Assign a list of your favorite fruits to a variable `fruits`.\n",
    "\n",
    "```python\n",
    "# Exercise 31\n",
    "```\n",
    "\n",
    "---\n",
    "\n",
    "### Exercise 32:\n",
    "Assign a tuple of three numbers to a variable `coordinates`.\n",
    "\n",
    "```python\n",
    "# Exercise 32\n",
    "```\n",
    "\n",
    "---\n",
    "\n",
    "### Exercise 33:\n",
    "Assign a dictionary with keys `name` and `age` to a variable `person`.\n",
    "\n",
    "```python\n",
    "# Exercise 33\n",
    "```\n",
    "\n",
    "---\n",
    "\n",
    "### Exercise 34:\n",
    "Use variables to store the sum of two floating-point numbers.\n",
    "\n",
    "```python\n",
    "# Exercise 34\n",
    "```\n",
    "\n",
    "---\n",
    "\n",
    "### Exercise 35:\n",
    "Create a variable `is_sunny` and assign it the result of a comparison `10 > 5`.\n",
    "\n",
    "```python\n",
    "# Exercise 35\n",
    "```\n",
    "\n",
    "---\n",
    "\n",
    "### Exercise 36:\n",
    "Assign a string and an integer to two different variables, then print both on one line.\n",
    "\n",
    "```python\n",
    "# Exercise 36\n",
    "```\n",
    "\n",
    "---\n",
    "\n",
    "### Exercise 37:\n",
    "Reassign a variable that originally held a number to a boolean value.\n",
    "\n",
    "```python\n",
    "# Exercise 37\n",
    "```\n",
    "\n",
    "---\n",
    "\n",
    "### Exercise 38:\n",
    "Create a variable `is_weekend` and assign it the result of `False`.\n",
    "\n",
    "```python\n",
    "# Exercise 38\n",
    "```\n",
    "\n",
    "---\n",
    "\n",
    "### Exercise 39:\n",
    "Assign a multi-line string to a variable `description`.\n",
    "\n",
    "```python\n",
    "# Exercise 39\n",
    "```\n",
    "\n",
    "---\n",
    "\n",
    "### Exercise 40:\n",
    "Use variables to store the result of the absolute value of `-25`.\n",
    "\n",
    "```python\n",
    "# Exercise 40\n",
    "```\n",
    "\n",
    "---\n",
    "\n",
    "### Exercise 41:\n",
    "Assign the result of a floor division `100 // 6` to a variable `floor_div_result`.\n",
    "\n",
    "```python\n",
    "# Exercise 41\n",
    "```\n",
    "\n",
    "---\n",
    "\n",
    "### Exercise 42:\n",
    "Assign the result of adding a floating-point number to an integer to a variable `mixed_sum`.\n",
    "\n",
    "```python\n",
    "# Exercise 42\n",
    "```\n",
    "\n",
    "---\n",
    "\n",
    "### Exercise 43:\n",
    "Use variables to store a combination of string concatenation.\n",
    "\n",
    "```python\n",
    "# Exercise 43\n",
    "```\n",
    "\n",
    "---\n",
    "\n",
    "### Exercise 44:\n",
    "Assign an empty list to a variable `empty_list`.\n",
    "\n",
    "```python\n",
    "# Exercise 44\n",
    "```\n",
    "\n",
    "---\n",
    "\n",
    "### Exercise 45:\n",
    "Assign a boolean value based on the comparison of two variables `a = 10` and `b = 15`.\n",
    "\n",
    "```python\n",
    "# Exercise 45\n",
    "```\n",
    "\n",
    "---\n",
    "\n",
    "### Exercise 46:\n",
    "Assign a long sentence to a variable and count its characters using `len()`.\n",
    "\n",
    "```python\n",
    "# Exercise 46\n",
    "```\n",
    "\n",
    "---\n",
    "\n",
    "### Exercise 47:\n",
    "Assign a fractional result `7 / 3` to a variable `division_result`.\n",
    "\n",
    "```python\n",
    "# Exercise 47\n",
    "```\n",
    "\n",
    "---\n",
    "\n",
    "### Exercise 48:\n",
    "Create a variable `speed` and assign it the value of 100 kilometers per hour.\n",
    "\n",
    "```python\n",
    "# Exercise 48\n",
    "```\n",
    "\n",
    "---\n",
    "\n",
    "### Exercise 49:\n",
    "Assign a multi-variable equation like `y = 3x + 5` where `x = 4` to a variable `y`.\n",
    "\n",
    "```python\n",
    "# Exercise 49\n",
    "```\n",
    "\n",
    "---\n",
    "\n",
    "### Exercise 50:\n",
    "Use variables to calculate and store the average of three numbers.\n",
    "\n",
    "```python\n",
    "# Exercise 50\n",
    "```\n",
    "\n",
    "****"
   ]
  },
  {
   "cell_type": "code",
   "execution_count": null,
   "id": "7a5e04c1-f2a2-4a1b-9600-c46ea1559be6",
   "metadata": {},
   "outputs": [],
   "source": []
  },
  {
   "cell_type": "markdown",
   "id": "aa3a7587-165f-4eff-8b9e-d30e986ccf6f",
   "metadata": {},
   "source": [
    "# Exercise 1"
   ]
  },
  {
   "cell_type": "code",
   "execution_count": 1,
   "id": "1a6e5b1e-25fa-43f4-bbb6-735426b7b983",
   "metadata": {},
   "outputs": [],
   "source": [
    "x=10"
   ]
  },
  {
   "cell_type": "markdown",
   "id": "10daeaf8-66c0-4a5d-b4f2-1fb70377841a",
   "metadata": {},
   "source": [
    "# Exercise 2"
   ]
  },
  {
   "cell_type": "code",
   "execution_count": 2,
   "id": "b2443519-3671-4443-b2a9-4c9f7114ac87",
   "metadata": {},
   "outputs": [],
   "source": [
    "is_valid = True"
   ]
  },
  {
   "cell_type": "markdown",
   "id": "737d8a6f-39e1-41f7-be8a-c098a12b599f",
   "metadata": {},
   "source": [
    "# Exercise 3"
   ]
  },
  {
   "cell_type": "code",
   "execution_count": 3,
   "id": "7ad8e892-991f-4a27-97c2-f620ccbb0a5d",
   "metadata": {},
   "outputs": [],
   "source": [
    "name = \"Python Programming\""
   ]
  },
  {
   "cell_type": "markdown",
   "id": "c1684ed4-60c5-48aa-b45e-039bb14bc65b",
   "metadata": {},
   "source": [
    "# Exercise 4"
   ]
  },
  {
   "cell_type": "code",
   "execution_count": 4,
   "id": "db18b7e7-c06f-4bc5-a308-d5d641e4ad39",
   "metadata": {},
   "outputs": [],
   "source": [
    "sum_result = 5+3"
   ]
  },
  {
   "cell_type": "markdown",
   "id": "6e2822ed-0e06-4390-bd4d-2e208362f701",
   "metadata": {},
   "source": [
    "# Exercise 5"
   ]
  },
  {
   "cell_type": "code",
   "execution_count": 7,
   "id": "8544384c-e203-4e81-b628-030f4b3a6080",
   "metadata": {},
   "outputs": [],
   "source": [
    "a,b,c = 5,10,15"
   ]
  },
  {
   "cell_type": "markdown",
   "id": "db28930f-417c-4dea-bdc3-02adf772ff0e",
   "metadata": {},
   "source": [
    "# Exercise 6"
   ]
  },
  {
   "cell_type": "code",
   "execution_count": 9,
   "id": "ea36bd22-adae-4b1a-805d-714ba01d5bbf",
   "metadata": {},
   "outputs": [],
   "source": [
    "x = 5\n",
    "y= x"
   ]
  },
  {
   "cell_type": "markdown",
   "id": "772298c7-d03c-430a-9687-0604e77ce29a",
   "metadata": {},
   "source": [
    "# Exercise 7"
   ]
  },
  {
   "cell_type": "code",
   "execution_count": 10,
   "id": "42d6e5ec-9fc4-43d1-92ed-b89c78c3142a",
   "metadata": {},
   "outputs": [],
   "source": [
    "gravity = 9.8"
   ]
  },
  {
   "cell_type": "markdown",
   "id": "6815cc46-9f94-4130-ac00-3b732efde72f",
   "metadata": {},
   "source": [
    "# Exercise 8"
   ]
  },
  {
   "cell_type": "code",
   "execution_count": 11,
   "id": "94beff2c-544e-4c3a-911c-7ac47370defa",
   "metadata": {},
   "outputs": [],
   "source": [
    "country = \"Rwanda\""
   ]
  },
  {
   "cell_type": "markdown",
   "id": "a215b4e6-efbb-4d07-a145-0bd2525d2da3",
   "metadata": {},
   "source": [
    "# Exercise 9"
   ]
  },
  {
   "cell_type": "code",
   "execution_count": 12,
   "id": "db8f25a2-94e1-4188-8b64-b77be7520a65",
   "metadata": {},
   "outputs": [],
   "source": [
    "age = 25\n",
    "age = 26"
   ]
  },
  {
   "cell_type": "markdown",
   "id": "136668de-c732-4029-aed5-749aaef7e83b",
   "metadata": {},
   "source": [
    "# Exercise 10"
   ]
  },
  {
   "cell_type": "code",
   "execution_count": null,
   "id": "194dcc12-168c-4008-ab5e-611166879f86",
   "metadata": {},
   "outputs": [],
   "source": [
    "diff = 20-7"
   ]
  },
  {
   "cell_type": "markdown",
   "id": "8ea246bb-4a30-46b8-ae0f-05737c266010",
   "metadata": {},
   "source": [
    "# Exercise 11"
   ]
  },
  {
   "cell_type": "code",
   "execution_count": 13,
   "id": "f7e863f8-0256-4a5a-8005-ae44aa1e7b68",
   "metadata": {},
   "outputs": [],
   "source": [
    "c = 10\n",
    "d = 10.7\n"
   ]
  },
  {
   "cell_type": "markdown",
   "id": "59a376a6-fc8c-4d5c-9a7a-8649d15911c9",
   "metadata": {},
   "source": [
    "# Exercise 12"
   ]
  },
  {
   "cell_type": "code",
   "execution_count": 14,
   "id": "a14a98c7-7c6d-4138-9775-2d5964db0aa5",
   "metadata": {},
   "outputs": [],
   "source": [
    "is_completed = False"
   ]
  },
  {
   "cell_type": "markdown",
   "id": "cf1e27cd-cbdd-42f8-ae91-af42ba3123d0",
   "metadata": {},
   "source": [
    "# Exercise 13"
   ]
  },
  {
   "cell_type": "code",
   "execution_count": 15,
   "id": "88ac8f57-733d-4ef3-92b3-8af2d1c21de8",
   "metadata": {},
   "outputs": [],
   "source": [
    "z = 10\n",
    "y = 20\n",
    "z,y = y,z"
   ]
  },
  {
   "cell_type": "markdown",
   "id": "be91fb99-e33f-4ce5-900c-192010a6a423",
   "metadata": {},
   "source": [
    "# Exercise 14"
   ]
  },
  {
   "cell_type": "code",
   "execution_count": 16,
   "id": "42560cea-3c1e-44bc-b697-32ba8fdf03d0",
   "metadata": {},
   "outputs": [],
   "source": [
    "complex_num = 3+4j"
   ]
  },
  {
   "cell_type": "markdown",
   "id": "90bbd608-6825-459a-8f30-b950c633050c",
   "metadata": {},
   "source": [
    "# Exercise 15"
   ]
  },
  {
   "cell_type": "code",
   "execution_count": 20,
   "id": "1c75a80e-320d-4dbb-9bf1-81fc805b09de",
   "metadata": {},
   "outputs": [],
   "source": [
    "w = 23\n",
    "w = \"Hello\""
   ]
  },
  {
   "cell_type": "markdown",
   "id": "72ca7ec1-398a-48aa-93c3-48192b62d11f",
   "metadata": {},
   "source": [
    "# Exercise 16"
   ]
  },
  {
   "cell_type": "code",
   "execution_count": 18,
   "id": "25070396-a2fa-4cfc-8203-494d31e37aac",
   "metadata": {},
   "outputs": [],
   "source": [
    "first_name = \"Florence\"\n",
    "last_name = \"Ingabire\""
   ]
  },
  {
   "cell_type": "markdown",
   "id": "8bebb8c1-0cec-494e-90f7-6fde988983f9",
   "metadata": {},
   "source": [
    "# Exercise 17"
   ]
  },
  {
   "cell_type": "code",
   "execution_count": 19,
   "id": "1dcf215b-10b3-4cef-a645-9cd5a8fe9127",
   "metadata": {},
   "outputs": [],
   "source": [
    "temperature = 35.5"
   ]
  },
  {
   "cell_type": "markdown",
   "id": "566ad98a-cb46-452d-8d0b-7750360ea7dd",
   "metadata": {},
   "source": [
    "# Exercise 18"
   ]
  },
  {
   "cell_type": "code",
   "execution_count": 21,
   "id": "95c3004d-7a1e-4c4d-99f5-4e3d8f3ba266",
   "metadata": {},
   "outputs": [],
   "source": [
    "product = 8*6"
   ]
  },
  {
   "cell_type": "markdown",
   "id": "ba3ff20a-650b-4900-a2cc-66ca9b08645d",
   "metadata": {},
   "source": [
    "# Exercise 19"
   ]
  },
  {
   "cell_type": "code",
   "execution_count": 22,
   "id": "7285a511-fc51-4244-ba1d-abad5956bc6c",
   "metadata": {},
   "outputs": [],
   "source": [
    "sentence = \"only God knows\""
   ]
  },
  {
   "cell_type": "markdown",
   "id": "400ef11f-90d6-4414-a925-9d12b697e6a4",
   "metadata": {},
   "source": [
    "# Exercise 20"
   ]
  },
  {
   "cell_type": "code",
   "execution_count": 23,
   "id": "8d896730-8044-4033-99e3-8eee2762a8a6",
   "metadata": {},
   "outputs": [],
   "source": [
    "int_value = int(\"50\")"
   ]
  },
  {
   "cell_type": "markdown",
   "id": "7fbac5e6-6adc-4f1c-85e7-0559d2f4d54f",
   "metadata": {},
   "source": [
    "# Exercise 21"
   ]
  },
  {
   "cell_type": "code",
   "execution_count": 24,
   "id": "167a354c-bc8d-44fd-8acd-32a6b94748ff",
   "metadata": {},
   "outputs": [],
   "source": [
    "quotient = 144/12"
   ]
  },
  {
   "cell_type": "markdown",
   "id": "2e0a283e-613b-4059-a9e3-352f957e9868",
   "metadata": {},
   "source": [
    "# Exercise 22"
   ]
  },
  {
   "cell_type": "code",
   "execution_count": 1,
   "id": "5158b3ef-028a-4bc8-8a19-33132978b60f",
   "metadata": {},
   "outputs": [],
   "source": [
    "remainder = 47 % 5"
   ]
  },
  {
   "cell_type": "markdown",
   "id": "8985e9c0-cdc2-4199-a59b-5277005f5955",
   "metadata": {},
   "source": [
    "# Exercise 23"
   ]
  },
  {
   "cell_type": "code",
   "execution_count": 2,
   "id": "bcef055b-245e-43f6-ad9b-2c604f08e647",
   "metadata": {},
   "outputs": [],
   "source": [
    "is_student = True"
   ]
  },
  {
   "cell_type": "markdown",
   "id": "2c91822c-bd01-4554-b6f1-305d1a6458de",
   "metadata": {},
   "source": [
    "# Exercise 24"
   ]
  },
  {
   "cell_type": "code",
   "execution_count": 3,
   "id": "a380cb1b-d61e-4478-918b-8a5142264132",
   "metadata": {},
   "outputs": [],
   "source": [
    "result = 45 % 4"
   ]
  },
  {
   "cell_type": "markdown",
   "id": "10434c31-533f-4c5f-9b84-af24ce64cf98",
   "metadata": {},
   "source": [
    "# Exercise 25"
   ]
  },
  {
   "cell_type": "code",
   "execution_count": 4,
   "id": "64e73004-3c18-4683-8031-765e7cf65ebf",
   "metadata": {},
   "outputs": [],
   "source": [
    "pi = 3.14159"
   ]
  },
  {
   "cell_type": "markdown",
   "id": "f9203795-ca5c-49a7-b647-0cd9c8443230",
   "metadata": {},
   "source": [
    "# Exercise 26"
   ]
  },
  {
   "cell_type": "code",
   "execution_count": 5,
   "id": "f8861163-4c91-417a-9a2e-9b1a4937d841",
   "metadata": {},
   "outputs": [
    {
     "name": "stdout",
     "output_type": "stream",
     "text": [
      "50\n"
     ]
    }
   ],
   "source": [
    "length = 5\n",
    "width = 10\n",
    "Area = length * width\n",
    "print(Area)"
   ]
  },
  {
   "cell_type": "markdown",
   "id": "9d5d4b23-5a07-448f-b1c9-d232516eff2d",
   "metadata": {},
   "source": [
    "# Exercise 27"
   ]
  },
  {
   "cell_type": "code",
   "execution_count": 6,
   "id": "76364cb6-4f33-4492-8c99-e2e2c8fd723d",
   "metadata": {},
   "outputs": [],
   "source": [
    "negative_value =  -15"
   ]
  },
  {
   "cell_type": "markdown",
   "id": "9b3a404e-4a3e-4447-92ba-b3aa458b79e0",
   "metadata": {},
   "source": [
    "# Exercise 28"
   ]
  },
  {
   "cell_type": "code",
   "execution_count": 7,
   "id": "5c696351-7b30-4c66-aea1-1bf93d02f3aa",
   "metadata": {},
   "outputs": [],
   "source": [
    "greeting = \"hello, how are you\""
   ]
  },
  {
   "cell_type": "markdown",
   "id": "22d96fa9-335d-451c-9ace-9d8a5225f31c",
   "metadata": {},
   "source": [
    "# Exercise 29"
   ]
  },
  {
   "cell_type": "code",
   "execution_count": 8,
   "id": "19021646-8089-4323-b4d8-b9e20641e257",
   "metadata": {},
   "outputs": [],
   "source": [
    "population = 10000000000"
   ]
  },
  {
   "cell_type": "markdown",
   "id": "d54dd77c-caef-40ce-bb60-6bd64c9450db",
   "metadata": {},
   "source": [
    "# Exercise 30"
   ]
  },
  {
   "cell_type": "code",
   "execution_count": 9,
   "id": "3914b0ae-1b8b-43f2-923e-5152bdd88342",
   "metadata": {},
   "outputs": [],
   "source": [
    "power_result = 2 ** 8"
   ]
  },
  {
   "cell_type": "markdown",
   "id": "0fdf6cd1-548c-4e2d-adb7-17104d070b94",
   "metadata": {},
   "source": [
    "# Exercise 31"
   ]
  },
  {
   "cell_type": "code",
   "execution_count": 10,
   "id": "9440f428-eedd-419f-b44a-4dc92090d9d9",
   "metadata": {},
   "outputs": [
    {
     "name": "stdout",
     "output_type": "stream",
     "text": [
      "['avocado', 'watermelon', 'mango']\n"
     ]
    }
   ],
   "source": [
    "fruits = [\"avocado\", \"watermelon\", \"mango\"]\n",
    "print(fruits)"
   ]
  },
  {
   "cell_type": "markdown",
   "id": "d888835f-f491-432b-bb6b-71e107c6488c",
   "metadata": {},
   "source": [
    "# Exercise 32"
   ]
  },
  {
   "cell_type": "code",
   "execution_count": 11,
   "id": "94bdbd71-ea8b-4e8e-9629-4dc17fc7f1d1",
   "metadata": {},
   "outputs": [
    {
     "name": "stdout",
     "output_type": "stream",
     "text": [
      "(7, 10, 13)\n"
     ]
    }
   ],
   "source": [
    "coordinates = (7, 10, 13)\n",
    "print(coordinates)"
   ]
  },
  {
   "cell_type": "markdown",
   "id": "375b2a76-2801-4d3a-b064-f66a4ec6e626",
   "metadata": {},
   "source": [
    "# Exercise 33"
   ]
  },
  {
   "cell_type": "code",
   "execution_count": 12,
   "id": "e6ae0d7f-5c58-4e79-8b4c-8a87723da970",
   "metadata": {},
   "outputs": [
    {
     "name": "stdout",
     "output_type": "stream",
     "text": [
      "{'name': 'Florence', 'age': 40}\n"
     ]
    }
   ],
   "source": [
    "person = {\"name\": \"Florence\",\n",
    "    \"age\": 40\n",
    "}\n",
    "\n",
    "print(person)"
   ]
  },
  {
   "cell_type": "markdown",
   "id": "0ea040fb-5dc1-4009-b069-af334b1dd68e",
   "metadata": {},
   "source": [
    "# Exercise 34"
   ]
  },
  {
   "cell_type": "code",
   "execution_count": 13,
   "id": "d391302c-316a-4b3c-9fd8-82347969f918",
   "metadata": {},
   "outputs": [
    {
     "name": "stdout",
     "output_type": "stream",
     "text": [
      "19.8\n"
     ]
    }
   ],
   "source": [
    "z = 12.5\n",
    "t = 7.3\n",
    "sum_result = z + t\n",
    "\n",
    "print(sum_result)"
   ]
  },
  {
   "cell_type": "markdown",
   "id": "318eef34-0233-47ad-800d-4254d8623f23",
   "metadata": {},
   "source": [
    "# Exercise 35"
   ]
  },
  {
   "cell_type": "code",
   "execution_count": 14,
   "id": "1d4b4a0f-2cb6-4fd6-bdfd-8911784612f0",
   "metadata": {},
   "outputs": [
    {
     "name": "stdout",
     "output_type": "stream",
     "text": [
      "True\n"
     ]
    }
   ],
   "source": [
    "is_sunny = 10 > 5\n",
    "print(is_sunny)"
   ]
  },
  {
   "cell_type": "markdown",
   "id": "a057c3b3-b98a-4f5d-b2b8-9c651a7d8a33",
   "metadata": {},
   "source": [
    "# Exercise 36"
   ]
  },
  {
   "cell_type": "code",
   "execution_count": 15,
   "id": "379c0d45-2d4f-405f-8d47-b7f4a3aea116",
   "metadata": {},
   "outputs": [
    {
     "name": "stdout",
     "output_type": "stream",
     "text": [
      "Florence 40\n"
     ]
    }
   ],
   "source": [
    "name = \"Florence\"\n",
    "age = 40\n",
    "\n",
    "print(name, age)"
   ]
  },
  {
   "cell_type": "markdown",
   "id": "f0b7e614-976a-4325-b627-2f4ba276070b",
   "metadata": {},
   "source": [
    "# Exercise 37"
   ]
  },
  {
   "cell_type": "code",
   "execution_count": 16,
   "id": "556845e1-ce5f-46ea-af7a-5e7f917c1cca",
   "metadata": {},
   "outputs": [
    {
     "name": "stdout",
     "output_type": "stream",
     "text": [
      "True\n"
     ]
    }
   ],
   "source": [
    "x = 100       # Initially a number\n",
    "x = True      # Now reassigned to a boolean\n",
    "\n",
    "print(x)"
   ]
  },
  {
   "cell_type": "markdown",
   "id": "c9dcc7f5-d5ef-4ae6-90de-2092c1cc12d8",
   "metadata": {},
   "source": [
    "# Exercise 38"
   ]
  },
  {
   "cell_type": "code",
   "execution_count": 18,
   "id": "b5ef2382-b58a-479b-befe-0274e51eec07",
   "metadata": {},
   "outputs": [
    {
     "name": "stdout",
     "output_type": "stream",
     "text": [
      "False\n"
     ]
    }
   ],
   "source": [
    "is_weekend = False\n",
    "print(is_weekend)"
   ]
  },
  {
   "cell_type": "markdown",
   "id": "98f90224-09e1-4071-af44-a133d9ef212f",
   "metadata": {},
   "source": [
    "# Exercise 39"
   ]
  },
  {
   "cell_type": "code",
   "execution_count": 19,
   "id": "9a04d41d-fc15-4c21-9235-eb8db10f1916",
   "metadata": {},
   "outputs": [
    {
     "name": "stdout",
     "output_type": "stream",
     "text": [
      "This is an old version of git.\n",
      "please downloads the latest.\n",
      "install it carefully.\n"
     ]
    }
   ],
   "source": [
    "description = \"\"\"This is an old version of git.\n",
    "please downloads the latest.\n",
    "install it carefully.\"\"\"\n",
    "print(description)"
   ]
  },
  {
   "cell_type": "markdown",
   "id": "3eef8ff1-4c05-4451-9858-2e16465ed028",
   "metadata": {},
   "source": [
    "# Exercise 40"
   ]
  },
  {
   "cell_type": "code",
   "execution_count": 20,
   "id": "17fb80fa-7c56-4f39-9074-e1586a338cd3",
   "metadata": {},
   "outputs": [
    {
     "name": "stdout",
     "output_type": "stream",
     "text": [
      "25\n"
     ]
    }
   ],
   "source": [
    "n = -25\n",
    "absolute_value = abs(n)\n",
    "print(absolute_value)"
   ]
  },
  {
   "cell_type": "markdown",
   "id": "d8ad3f3c-68e9-42c6-b1c8-68d7056b3be8",
   "metadata": {},
   "source": [
    "# Exercise 41"
   ]
  },
  {
   "cell_type": "code",
   "execution_count": 21,
   "id": "3f2bef90-4741-4920-a378-86fe383b6439",
   "metadata": {},
   "outputs": [
    {
     "name": "stdout",
     "output_type": "stream",
     "text": [
      "16\n"
     ]
    }
   ],
   "source": [
    "floor_div_result = 100 // 6\n",
    "print(floor_div_result)"
   ]
  },
  {
   "cell_type": "markdown",
   "id": "b2ab4021-33e7-4f84-96ba-95c200b5b11c",
   "metadata": {},
   "source": [
    "# Exercise 42"
   ]
  },
  {
   "cell_type": "code",
   "execution_count": 22,
   "id": "db4d5f2c-dbc0-403d-bf49-4112fa76999f",
   "metadata": {},
   "outputs": [
    {
     "name": "stdout",
     "output_type": "stream",
     "text": [
      "13.5\n"
     ]
    }
   ],
   "source": [
    "mixed_sum = 10 + 3.5\n",
    "print(mixed_sum)"
   ]
  },
  {
   "cell_type": "markdown",
   "id": "a14a816b-3696-4a62-bb20-de4525aceb82",
   "metadata": {},
   "source": [
    "# Exercise 43"
   ]
  },
  {
   "cell_type": "code",
   "execution_count": 23,
   "id": "28fb87d4-1766-48c5-bab3-2f294e7ce3ef",
   "metadata": {},
   "outputs": [
    {
     "name": "stdout",
     "output_type": "stream",
     "text": [
      "Florence Ingabire\n"
     ]
    }
   ],
   "source": [
    "first_name = \"Florence\"\n",
    "last_name = \"Ingabire\"\n",
    "full_name = first_name + \" \" + last_name\n",
    "\n",
    "print(full_name)"
   ]
  },
  {
   "cell_type": "markdown",
   "id": "e5106810-8786-44b9-98af-f9c2e27d2948",
   "metadata": {},
   "source": [
    "# Exercise 44"
   ]
  },
  {
   "cell_type": "code",
   "execution_count": 24,
   "id": "0781472e-bff8-4e0e-9b39-47b1e186199a",
   "metadata": {},
   "outputs": [
    {
     "name": "stdout",
     "output_type": "stream",
     "text": [
      "[]\n"
     ]
    }
   ],
   "source": [
    "empty_list = []\n",
    "print(empty_list)"
   ]
  },
  {
   "cell_type": "markdown",
   "id": "719414c2-12c5-4886-8c80-984c31ffeb86",
   "metadata": {},
   "source": [
    "# Exercise 45"
   ]
  },
  {
   "cell_type": "code",
   "execution_count": 26,
   "id": "49bbea34-c682-4af7-b8bf-b7f9a42a45b8",
   "metadata": {},
   "outputs": [
    {
     "name": "stdout",
     "output_type": "stream",
     "text": [
      "False\n"
     ]
    }
   ],
   "source": [
    "a = 20\n",
    "b = 55\n",
    "\n",
    "greater = a > b\n",
    "print(greater)"
   ]
  },
  {
   "cell_type": "markdown",
   "id": "37c24dcb-0219-45a5-b1ec-6dc7093957cd",
   "metadata": {},
   "source": [
    "# Exercise 46"
   ]
  },
  {
   "cell_type": "code",
   "execution_count": 27,
   "id": "ac1b0057-6d24-474e-8bf0-c27bd94a7e90",
   "metadata": {},
   "outputs": [
    {
     "name": "stdout",
     "output_type": "stream",
     "text": [
      "57\n"
     ]
    }
   ],
   "source": [
    "sentence = \"Learning Python is fun and very useful for data analysis.\"\n",
    "character_count = len(sentence)\n",
    "\n",
    "print(character_count)"
   ]
  },
  {
   "cell_type": "markdown",
   "id": "bdae46cd-54f3-4ca6-a279-72e98f1ebb97",
   "metadata": {},
   "source": [
    "# Exercise 47"
   ]
  },
  {
   "cell_type": "code",
   "execution_count": 28,
   "id": "90bf251e-7405-4790-9e77-f71f8989910f",
   "metadata": {},
   "outputs": [
    {
     "name": "stdout",
     "output_type": "stream",
     "text": [
      "2.3333333333333335\n"
     ]
    }
   ],
   "source": [
    "division_result = 7 / 3\n",
    "print(division_result)"
   ]
  },
  {
   "cell_type": "markdown",
   "id": "a6397f6d-27e6-488d-8514-5caf8843da48",
   "metadata": {},
   "source": [
    "# Exercise 48"
   ]
  },
  {
   "cell_type": "code",
   "execution_count": 29,
   "id": "a1126dfc-e556-4082-8bf3-1a2cf75f3bd2",
   "metadata": {},
   "outputs": [
    {
     "name": "stdout",
     "output_type": "stream",
     "text": [
      "100\n"
     ]
    }
   ],
   "source": [
    "speed = 100  # in kilometers per hour\n",
    "print(speed)"
   ]
  },
  {
   "cell_type": "markdown",
   "id": "e6eea746-c9f0-4c61-b82e-d6919e32cfda",
   "metadata": {},
   "source": [
    "# Exercise 49"
   ]
  },
  {
   "cell_type": "code",
   "execution_count": 31,
   "id": "5cccbe4e-e036-4bf5-919a-690126b2e76e",
   "metadata": {},
   "outputs": [
    {
     "name": "stdout",
     "output_type": "stream",
     "text": [
      "29\n"
     ]
    }
   ],
   "source": [
    "x = 4\n",
    "y = 6 * x + 5\n",
    "\n",
    "print(y)"
   ]
  },
  {
   "cell_type": "markdown",
   "id": "c611460b-6e09-4c31-a2ea-2f014ef77ded",
   "metadata": {},
   "source": [
    "# Exercise 50"
   ]
  },
  {
   "cell_type": "code",
   "execution_count": 32,
   "id": "14083950-bb86-4bdd-ba93-2de88fc41c17",
   "metadata": {},
   "outputs": [
    {
     "name": "stdout",
     "output_type": "stream",
     "text": [
      "7.0\n"
     ]
    }
   ],
   "source": [
    "num1 = 5\n",
    "num2 = 7\n",
    "num3 = 9\n",
    "\n",
    "average = (num1 + num2 + num3) / 3\n",
    "print(average)"
   ]
  },
  {
   "cell_type": "code",
   "execution_count": null,
   "id": "8b800103-7c54-4b2e-8670-53333dd86394",
   "metadata": {},
   "outputs": [],
   "source": []
  }
 ],
 "metadata": {
  "kernelspec": {
   "display_name": "Python 3 (ipykernel)",
   "language": "python",
   "name": "python3"
  },
  "language_info": {
   "codemirror_mode": {
    "name": "ipython",
    "version": 3
   },
   "file_extension": ".py",
   "mimetype": "text/x-python",
   "name": "python",
   "nbconvert_exporter": "python",
   "pygments_lexer": "ipython3",
   "version": "3.11.7"
  }
 },
 "nbformat": 4,
 "nbformat_minor": 5
}
