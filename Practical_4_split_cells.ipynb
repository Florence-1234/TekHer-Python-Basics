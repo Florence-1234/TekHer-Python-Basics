{
 "cells": [
  {
   "cell_type": "markdown",
   "id": "9fd00cef",
   "metadata": {},
   "source": [
    "# Practical_4: Flow control"
   ]
  },
  {
   "cell_type": "markdown",
   "id": "497af3a0",
   "metadata": {},
   "source": [
    "\n",
    "\n",
    "---\n",
    "\n",
    "### Exercise 1:\n",
    "Write a Python program that checks if a number is positive or negative.\n"
   ]
  },
  {
   "cell_type": "code",
   "execution_count": 13,
   "id": "4525d7b1",
   "metadata": {},
   "outputs": [
    {
     "name": "stdout",
     "output_type": "stream",
     "text": [
      "number is negative\n"
     ]
    }
   ],
   "source": [
    "# Exercise 1\n",
    "def number(num):\n",
    "    if num >0:\n",
    "      print(\"number is positive\")\n",
    "    elif num < 0:\n",
    "      print(\"number is negative\")\n",
    "    else:\n",
    "      print(\"number is zero\")\n",
    "number(-5)\n",
    "    "
   ]
  },
  {
   "cell_type": "markdown",
   "id": "289c0fec",
   "metadata": {},
   "source": [
    "\n",
    "---\n",
    "\n",
    "### Exercise 2:\n",
    "Write a Python function that checks if a string starts with a vowel.\n"
   ]
  },
  {
   "cell_type": "code",
   "execution_count": 5,
   "id": "3adbe475",
   "metadata": {},
   "outputs": [
    {
     "name": "stdout",
     "output_type": "stream",
     "text": [
      "the string doesnot start with vowel\n"
     ]
    }
   ],
   "source": [
    "# Exercise 2\n",
    "def check_string(string):\n",
    "    if string[0] in [\"a\",\"i\",\"u\",\"o\",\"e\"]:\n",
    "        print (\"the string start with vowel\")\n",
    "    else:\n",
    "        print (\"the string doesnot start with vowel\")\n",
    "check_string(\"how are you\")        "
   ]
  },
  {
   "cell_type": "markdown",
   "id": "d64fdd3e",
   "metadata": {},
   "source": [
    "\n",
    "---\n",
    "\n",
    "### Exercise 3:\n",
    "Write a Python program that takes a list of integers and prints \"Even\" for each even number and \"Odd\" for each odd number.\n"
   ]
  },
  {
   "cell_type": "code",
   "execution_count": 9,
   "id": "e6926b1c",
   "metadata": {},
   "outputs": [
    {
     "name": "stdout",
     "output_type": "stream",
     "text": [
      "1 the number is odd\n",
      "2 the number is even\n",
      "3 the number is odd\n",
      "4 the number is even\n",
      "5 the number is odd\n",
      "6 the number is even\n",
      "7 the number is odd\n",
      "8 the number is even\n",
      "9 the number is odd\n",
      "10 the number is even\n",
      "11 the number is odd\n",
      "12 the number is even\n"
     ]
    }
   ],
   "source": [
    "# Exercise 3\n",
    "def even_odd_number(mylist):\n",
    "    for x in mylist :\n",
    "      if x % 2 == 0: \n",
    "          print(f\"{x} the number is even\")\n",
    "      else:\n",
    "          print (f\"{x} the number is odd\")\n",
    "even_odd_number(range(1,13))          "
   ]
  },
  {
   "cell_type": "markdown",
   "id": "b5ce7b99",
   "metadata": {},
   "source": [
    "\n",
    "---\n",
    "\n",
    "### Exercise 4:\n",
    "Write a Python program that checks if a given year is a leap year.\n"
   ]
  },
  {
   "cell_type": "code",
   "execution_count": 10,
   "id": "eb3d99f0",
   "metadata": {},
   "outputs": [
    {
     "name": "stdout",
     "output_type": "stream",
     "text": [
      "this is not the leap year\n"
     ]
    }
   ],
   "source": [
    "# Exercise 4\n",
    "def check_leap_year(year): \n",
    "    if (year % 4 == 0 and year % 100 != 0) or (year % 400 == 0):\n",
    "        print (\"this is the leap year\")\n",
    "    else:\n",
    "        print(\"this is not the leap year\")\n",
    "\n",
    "check_leap_year(2023)"
   ]
  },
  {
   "cell_type": "markdown",
   "id": "c5496d7d",
   "metadata": {},
   "source": [
    "\n",
    "---\n",
    "\n",
    "### Exercise 5:\n",
    "Write a Python function that checks if a number is divisible by both 3 and 5.\n"
   ]
  },
  {
   "cell_type": "code",
   "execution_count": 16,
   "id": "46b1bd68",
   "metadata": {},
   "outputs": [
    {
     "name": "stdout",
     "output_type": "stream",
     "text": [
      "the number is not divided by 3 and 5\n"
     ]
    }
   ],
   "source": [
    "# Exercise 5\n",
    "def check_number(num):  \n",
    "        if num % 3 == 0 and num % 5 == 0: \n",
    "            print(\"the number is divisible by 3 and 5\")\n",
    "        else:\n",
    "            print (\"the number is not divided by 3 and 5\")\n",
    "check_number(15)         "
   ]
  },
  {
   "cell_type": "markdown",
   "id": "b0348707",
   "metadata": {},
   "source": [
    "\n",
    "---\n",
    "\n",
    "### Exercise 6:\n",
    "Write a Python program that prints \"Hot\" if the temperature is above 30, \"Warm\" if it is between 15 and 30, and \"Cold\" if it is below 15.\n"
   ]
  },
  {
   "cell_type": "code",
   "execution_count": 17,
   "id": "dfde8564",
   "metadata": {},
   "outputs": [
    {
     "name": "stdout",
     "output_type": "stream",
     "text": [
      "it is warm\n"
     ]
    }
   ],
   "source": [
    "# Exercise 6\n",
    "def check_temperature(temperature): \n",
    "    if temperature > 30: \n",
    "        print (\"it is Hot\")\n",
    "    elif temperature > 15 and temperature < 30: \n",
    "        print(\"it is warm\") \n",
    "    else: \n",
    "        print(\"it is cold\")\n",
    "check_temperature(20)\n",
    "        \n"
   ]
  },
  {
   "cell_type": "markdown",
   "id": "26d69e15-9cfc-4936-a825-577d074de02c",
   "metadata": {},
   "source": [
    "### Exercise 7:\n",
    "Write a Python program that checks if a string contains the letter 'a'.\n"
   ]
  },
  {
   "cell_type": "code",
   "execution_count": 20,
   "id": "2eb30c57",
   "metadata": {},
   "outputs": [
    {
     "name": "stdout",
     "output_type": "stream",
     "text": [
      "this string contain a\n"
     ]
    }
   ],
   "source": [
    "# Exercise 7\n",
    "def check_string(mystring): \n",
    "    if \"a\" in mystring: \n",
    "        print(\"this string contain a\")\n",
    "    else:\n",
    "        print(\"this string doesnot contain a\")\n",
    "\n",
    "check_string(\"hallo\")"
   ]
  },
  {
   "cell_type": "markdown",
   "id": "8194f567",
   "metadata": {},
   "source": [
    "\n",
    "---\n",
    "\n",
    "### Exercise 8:\n",
    "Write a Python function that checks if two numbers are equal, or which one is larger.\n"
   ]
  },
  {
   "cell_type": "code",
   "execution_count": 23,
   "id": "ede9943f",
   "metadata": {},
   "outputs": [
    {
     "name": "stdout",
     "output_type": "stream",
     "text": [
      "the two numbers are equal\n"
     ]
    }
   ],
   "source": [
    "# Exercise 8\n",
    "def check_equal_or_larger(num1,num2):\n",
    "    if num1 == num2: \n",
    "        print(\"the two numbers are equal\")\n",
    "    elif num1 > num2: \n",
    "        print(\"num1 is greater than num2\")\n",
    "    else:\n",
    "        print(\"num2 is greater than num1\")\n",
    "\n",
    "check_equal_or_larger(10,10)"
   ]
  },
  {
   "cell_type": "markdown",
   "id": "9e86c97f",
   "metadata": {},
   "source": [
    "\n",
    "---\n",
    "\n",
    "### Exercise 9:\n",
    "Write a Python program that checks if a list is empty.\n"
   ]
  },
  {
   "cell_type": "code",
   "execution_count": 29,
   "id": "13738c3f",
   "metadata": {},
   "outputs": [
    {
     "name": "stdout",
     "output_type": "stream",
     "text": [
      "the list is not empty\n"
     ]
    }
   ],
   "source": [
    "# Exercise 9\n",
    "def empty_list(mylist): \n",
    "    if mylist == []: \n",
    "        print(\"the list is empty\")\n",
    "    else:\n",
    "        print(\"the list is not empty\")\n",
    "\n",
    "empty_list([\"hey\",\"do\"])"
   ]
  },
  {
   "cell_type": "markdown",
   "id": "645a85cc",
   "metadata": {},
   "source": [
    "\n",
    "---\n",
    "\n",
    "### Exercise 10:\n",
    "Write a Python function that takes two strings and checks if they are anagrams.\n"
   ]
  },
  {
   "cell_type": "code",
   "execution_count": 3,
   "id": "756b7d46",
   "metadata": {},
   "outputs": [
    {
     "name": "stdout",
     "output_type": "stream",
     "text": [
      "They are anagrams\n"
     ]
    }
   ],
   "source": [
    "# Exercise 10\n",
    "\n",
    "def check_anagrams_string(str1,str2):\n",
    "    \n",
    "    str1 = str1.replace(\" \", \"\").lower()\n",
    "    str2 = str2.replace(\" \", \"\").lower()\n",
    "    \n",
    "    if sorted(str1) == sorted(str2):\n",
    "          print(\"They are anagrams\")\n",
    "    else:\n",
    "          print(\"They are not anagrams\")\n",
    "\n",
    "check_anagrams_string(\"care\",\"race\")  "
   ]
  },
  {
   "cell_type": "markdown",
   "id": "59ebce61",
   "metadata": {},
   "source": [
    "\n",
    "---\n",
    "\n",
    "### Exercise 11:\n",
    "Write a Python program that checks if a number is prime.\n"
   ]
  },
  {
   "cell_type": "code",
   "execution_count": 9,
   "id": "b077d9a1",
   "metadata": {},
   "outputs": [
    {
     "data": {
      "text/plain": [
       "False"
      ]
     },
     "execution_count": 9,
     "metadata": {},
     "output_type": "execute_result"
    }
   ],
   "source": [
    "# Exercise 11\n",
    "def is_prime(number):\n",
    "    if number <= 1:\n",
    "        return False \n",
    "    if number == 2:\n",
    "        return True  \n",
    "    if number % 2 == 0:\n",
    "        return False \n",
    "\n",
    "    for i in range(3, int(number**0.5) + 1, 2):\n",
    "        if number % i == 0:\n",
    "            return False\n",
    "    return True\n",
    "is_prime(6)"
   ]
  },
  {
   "cell_type": "markdown",
   "id": "531463b8",
   "metadata": {},
   "source": [
    "\n",
    "---\n",
    "\n",
    "### Exercise 12:\n",
    "Write a Python program that checks if a list of numbers is sorted in ascending order.\n"
   ]
  },
  {
   "cell_type": "code",
   "execution_count": 7,
   "id": "01fc5a9e",
   "metadata": {},
   "outputs": [
    {
     "name": "stdout",
     "output_type": "stream",
     "text": [
      "my list is not sorted\n"
     ]
    }
   ],
   "source": [
    "# Exercise 12\n",
    "def check_list(mylist):\n",
    "    if mylist == sorted(mylist):\n",
    "        print(\" my list is in ascending order\")\n",
    "    else:\n",
    "        print(\"my list is not sorted\")\n",
    "\n",
    "check_list([1,4,3,2,5])\n",
    "    "
   ]
  },
  {
   "cell_type": "markdown",
   "id": "b15a0cca",
   "metadata": {},
   "source": [
    "\n",
    "---\n",
    "\n",
    "### Exercise 13:\n",
    "Write a Python function that takes a character and checks if it is a digit.\n"
   ]
  },
  {
   "cell_type": "code",
   "execution_count": 16,
   "id": "2dc9a053",
   "metadata": {},
   "outputs": [
    {
     "name": "stdout",
     "output_type": "stream",
     "text": [
      "character is not a digit.\n"
     ]
    }
   ],
   "source": [
    "# Exercise 13\n",
    "\n",
    "def char_is_digit(charact):\n",
    "    if charact.isdigit() == True:\n",
    "         print(\"character is a digit.\")\n",
    "    else:\n",
    "         print(\"character is not a digit.\")\n",
    "        \n",
    "char_is_digit(\"5\")"
   ]
  },
  {
   "cell_type": "markdown",
   "id": "60190b10",
   "metadata": {},
   "source": [
    "\n",
    "---\n",
    "\n",
    "### Exercise 14:\n",
    "Write a Python function that checks if a string contains only uppercase letters.\n"
   ]
  },
  {
   "cell_type": "code",
   "execution_count": 20,
   "id": "4ed8ebfa",
   "metadata": {},
   "outputs": [
    {
     "name": "stdout",
     "output_type": "stream",
     "text": [
      "The string does NOT contain only uppercase letters.\n"
     ]
    }
   ],
   "source": [
    "# Exercise 14\n",
    "\n",
    "def is_contain_uppercase(text):\n",
    "    if text.upper() == text:\n",
    "        print(\"The string contains only uppercase letters.\")\n",
    "    else:\n",
    "        print(\"The string does NOT contain only uppercase letters.\")\n",
    "\n",
    "is_contain_uppercase(\"Hello WORLD\")"
   ]
  },
  {
   "cell_type": "markdown",
   "id": "7f7dd4fd",
   "metadata": {},
   "source": [
    "\n",
    "---\n",
    "\n",
    "### Exercise 15:\n",
    "Write a Python program that checks if a number is a multiple of 10.\n"
   ]
  },
  {
   "cell_type": "code",
   "execution_count": 21,
   "id": "e35d5709",
   "metadata": {},
   "outputs": [
    {
     "name": "stdout",
     "output_type": "stream",
     "text": [
      "20 is a multiple of 10\n"
     ]
    }
   ],
   "source": [
    "# Exercise 15\n",
    "\n",
    "def multiple_of_10(num): \n",
    "    if num % 10 == 0: \n",
    "        print(f\"{num} is a multiple of 10\")\n",
    "    else:\n",
    "        print(f\"{num} is not a multiple of 10\")\n",
    "\n",
    "multiple_of_10(20)"
   ]
  },
  {
   "cell_type": "markdown",
   "id": "83e1c5d3",
   "metadata": {},
   "source": [
    "\n",
    "---\n",
    "\n",
    "### Exercise 16:\n",
    "Write a Python function that checks if a list contains any duplicates.\n"
   ]
  },
  {
   "cell_type": "code",
   "execution_count": 23,
   "id": "24d52edd",
   "metadata": {},
   "outputs": [
    {
     "name": "stdout",
     "output_type": "stream",
     "text": [
      "The list contains duplicates.\n"
     ]
    }
   ],
   "source": [
    "# Exercise 16\n",
    "\n",
    "def list_has_duplicates(lst):\n",
    "     if len(lst) != len(set(lst)):\n",
    "        print(\"The list contains duplicates.\")\n",
    "     else:\n",
    "        print(\"The list does not contain duplicates.\")\n",
    "\n",
    "list_has_duplicates([1,2,2,4,5])\n",
    "\n"
   ]
  },
  {
   "cell_type": "markdown",
   "id": "d9533146",
   "metadata": {},
   "source": [
    "\n",
    "---\n",
    "\n",
    "### Exercise 17:\n",
    "Write a Python program that prints \"Teenager\" if the age is between 13 and 19, otherwise it prints \"Not a teenager.\"\n"
   ]
  },
  {
   "cell_type": "code",
   "execution_count": 4,
   "id": "bd9212dd",
   "metadata": {},
   "outputs": [
    {
     "name": "stdout",
     "output_type": "stream",
     "text": [
      "Teenager\n"
     ]
    }
   ],
   "source": [
    "# Exercise 17\n",
    "def check_teenager(age):\n",
    "    if age >= 13 and age <= 19:\n",
    "        print(\"Teenager\")\n",
    "    else:\n",
    "        print(\"Not a teenager\")\n",
    "check_teenager(15)"
   ]
  },
  {
   "cell_type": "markdown",
   "id": "370f2ba1",
   "metadata": {},
   "source": [
    "\n",
    "---\n",
    "\n",
    "### Exercise 18:\n",
    "Write a Python function that checks if a list contains an element greater than 100.\n"
   ]
  },
  {
   "cell_type": "code",
   "execution_count": 11,
   "id": "23cde312",
   "metadata": {},
   "outputs": [
    {
     "name": "stdout",
     "output_type": "stream",
     "text": [
      "The list contains an element greater than 100.\n"
     ]
    }
   ],
   "source": [
    "# Exercise 18\n",
    "def has_element_greater_than_100(numbers):\n",
    "    for num in numbers:\n",
    "        if num > 100:\n",
    "            return True\n",
    "    return False\n",
    "\n",
    "# Example usage:\n",
    "sample_list = [150, 88, 102, 67]\n",
    "if has_element_greater_than_100(sample_list):\n",
    "    print(\"The list contains an element greater than 100.\")\n",
    "else:\n",
    "    print(\"No element greater than 100 in the list.\")"
   ]
  },
  {
   "cell_type": "markdown",
   "id": "322ae5e3",
   "metadata": {},
   "source": [
    "\n",
    "---\n",
    "\n",
    "### Exercise 19:\n",
    "Write a Python program that checks if a number is even or odd.\n"
   ]
  },
  {
   "cell_type": "code",
   "execution_count": 12,
   "id": "a91bd104",
   "metadata": {},
   "outputs": [
    {
     "name": "stdout",
     "output_type": "stream",
     "text": [
      "3 is Odd.\n"
     ]
    }
   ],
   "source": [
    "# Exercise 19\n",
    "def check_even_or_odd(number):\n",
    "    if number % 2 == 0:\n",
    "        print(f\"{number} is Even.\")\n",
    "    else:\n",
    "        print(f\"{number} is Odd.\")\n",
    "\n",
    "check_even_or_odd(3)"
   ]
  },
  {
   "cell_type": "markdown",
   "id": "98e0835d",
   "metadata": {},
   "source": [
    "\n",
    "---\n",
    "\n",
    "### Exercise 20:\n",
    "Write a Python function that checks if a string ends with a punctuation mark.\n"
   ]
  },
  {
   "cell_type": "code",
   "execution_count": 15,
   "id": "31fd2458",
   "metadata": {},
   "outputs": [
    {
     "name": "stdout",
     "output_type": "stream",
     "text": [
      "The string ends with a punctuation mark.\n"
     ]
    }
   ],
   "source": [
    "# Exercise 20\n",
    "import string\n",
    "\n",
    "def ends_with_punctuation(text):\n",
    "    if text and text[-1] in string.punctuation:\n",
    "        return True\n",
    "    return False\n",
    "\n",
    "ex = \"Hello, how are you?\"\n",
    "if ends_with_punctuation(ex):\n",
    "    print(\"The string ends with a punctuation mark.\")\n",
    "else:\n",
    "    print(\"The string does not end with a punctuation mark.\")"
   ]
  },
  {
   "cell_type": "markdown",
   "id": "fb313702",
   "metadata": {},
   "source": [
    "\n",
    "---\n",
    "\n",
    "### Exercise 21:\n",
    "Write a Python program that prints \"Yes\" if the number is between 1 and 100, otherwise it prints \"No.\"\n"
   ]
  },
  {
   "cell_type": "code",
   "execution_count": 17,
   "id": "e362bd56",
   "metadata": {},
   "outputs": [
    {
     "name": "stdout",
     "output_type": "stream",
     "text": [
      "No, the number is not in range of 1 and 100\n"
     ]
    }
   ],
   "source": [
    "# Exercise 21\n",
    "def check_range(number):\n",
    "    if 1 <= number <= 100:\n",
    "        print(\"Yes,the number is in range of 1 and 100\")\n",
    "    else:\n",
    "        print(\"No, the number is not in range of 1 and 100\")\n",
    "\n",
    "check_range(104)"
   ]
  },
  {
   "cell_type": "markdown",
   "id": "3afeef94",
   "metadata": {},
   "source": [
    "\n",
    "---\n",
    "\n",
    "### Exercise 22:\n",
    "Write a Python program that checks if two strings have the same length.\n"
   ]
  },
  {
   "cell_type": "code",
   "execution_count": 18,
   "id": "73b75867",
   "metadata": {},
   "outputs": [
    {
     "name": "stdout",
     "output_type": "stream",
     "text": [
      "The strings do not have the same length.\n"
     ]
    }
   ],
   "source": [
    "# Exercise 22\n",
    "def check_same_length(str1, str2):\n",
    "    if len(str1) == len(str2):\n",
    "        print(\"The strings have the same length.\")\n",
    "    else:\n",
    "        print(\"The strings do not have the same length.\")\n",
    "\n",
    "check_same_length(\"hello\", \"hey\")"
   ]
  },
  {
   "cell_type": "markdown",
   "id": "bdd8e2ae",
   "metadata": {},
   "source": [
    "\n",
    "---\n",
    "\n",
    "### Exercise 23:\n",
    "Write a Python function that checks if a number is greater than its reverse.\n"
   ]
  },
  {
   "cell_type": "code",
   "execution_count": 22,
   "id": "da8ad2f4",
   "metadata": {},
   "outputs": [
    {
     "name": "stdin",
     "output_type": "stream",
     "text": [
      "Enter a number:  23\n"
     ]
    },
    {
     "name": "stdout",
     "output_type": "stream",
     "text": [
      "23 is not greater than its reverse.\n"
     ]
    }
   ],
   "source": [
    "# Exercise 23\n",
    "def is_greater_than_reverse(number):\n",
    "\n",
    "    reversed_number = int(str(number)[::-1])\n",
    "    \n",
    "    return number > reversed_number\n",
    "\n",
    "num = int(input(\"Enter a number: \"))\n",
    "if is_greater_than_reverse(num):\n",
    "    print(f\"{num} is greater than its reverse.\")\n",
    "else:\n",
    "    print(f\"{num} is not greater than its reverse.\")"
   ]
  },
  {
   "cell_type": "markdown",
   "id": "fab070bc",
   "metadata": {},
   "source": [
    "\n",
    "---\n",
    "\n",
    "### Exercise 24:\n",
    "Write a Python program that checks if a password contains both letters and numbers.\n"
   ]
  },
  {
   "cell_type": "code",
   "execution_count": 23,
   "id": "6e22f9b2",
   "metadata": {},
   "outputs": [
    {
     "name": "stdin",
     "output_type": "stream",
     "text": [
      "Enter your password:  flora@12\n"
     ]
    },
    {
     "name": "stdout",
     "output_type": "stream",
     "text": [
      "Valid password: contains both letters and numbers.\n"
     ]
    }
   ],
   "source": [
    "# Exercise 24\n",
    "def contains_letters_and_numbers(password):\n",
    "    has_letter = False\n",
    "    has_number = False\n",
    "\n",
    "    for char in password:\n",
    "        if char.isalpha():\n",
    "            has_letter = True\n",
    "        elif char.isdigit():\n",
    "            has_number = True\n",
    "\n",
    "    return has_letter and has_number\n",
    "\n",
    "password = input(\"Enter your password: \")\n",
    "\n",
    "if contains_letters_and_numbers(password):\n",
    "    print(\"Valid password: contains both letters and numbers.\")\n",
    "else:\n",
    "    print(\"Invalid password: must contain both letters and numbers.\")"
   ]
  },
  {
   "cell_type": "markdown",
   "id": "11cb6e7b",
   "metadata": {},
   "source": [
    "\n",
    "---\n",
    "\n",
    "### Exercise 25:\n",
    "Write a Python program that checks if a number is between two given numbers.\n"
   ]
  },
  {
   "cell_type": "code",
   "execution_count": 26,
   "id": "38cab028",
   "metadata": {},
   "outputs": [
    {
     "name": "stdout",
     "output_type": "stream",
     "text": [
      "7 is between 6 and 8.\n"
     ]
    }
   ],
   "source": [
    "# Exercise 25\n",
    "def is_between(number, lower, upper):\n",
    "    if lower < number < upper:\n",
    "        print(f\"{number} is between {lower} and {upper}.\")\n",
    "    else:\n",
    "        print(f\"{number} is NOT between {lower} and {upper}.\")\n",
    "\n",
    "is_between(7, 6, 8)"
   ]
  },
  {
   "cell_type": "markdown",
   "id": "50b24a42",
   "metadata": {},
   "source": [
    "\n",
    "---\n",
    "\n",
    "### Exercise 26:\n",
    "Write a Python function that checks if all characters in a string are unique.\n"
   ]
  },
  {
   "cell_type": "code",
   "execution_count": 28,
   "id": "62537159",
   "metadata": {},
   "outputs": [
    {
     "name": "stdin",
     "output_type": "stream",
     "text": [
      "Enter a string:  allelua\n"
     ]
    },
    {
     "name": "stdout",
     "output_type": "stream",
     "text": [
      "The string has duplicate characters.\n"
     ]
    }
   ],
   "source": [
    "# Exercise 26\n",
    "def all_unique_characters(s):\n",
    "    return len(set(s)) == len(s)\n",
    "\n",
    "text = input(\"Enter a string: \")\n",
    "if all_unique_characters(text):\n",
    "    print(\"All characters are unique.\")\n",
    "else:\n",
    "    print(\"The string has duplicate characters.\")"
   ]
  },
  {
   "cell_type": "markdown",
   "id": "54ffa82e",
   "metadata": {},
   "source": [
    "\n",
    "---\n",
    "\n",
    "### Exercise 27:\n",
    "Write a Python program that checks if a number is a perfect square.\n"
   ]
  },
  {
   "cell_type": "code",
   "execution_count": 30,
   "id": "dd0707b7",
   "metadata": {},
   "outputs": [
    {
     "name": "stdin",
     "output_type": "stream",
     "text": [
      "Enter a number:  49\n"
     ]
    },
    {
     "name": "stdout",
     "output_type": "stream",
     "text": [
      "49 is a perfect square.\n"
     ]
    }
   ],
   "source": [
    "# Exercise 27\n",
    "import math\n",
    "\n",
    "def is_perfect_square(number):\n",
    "    if number < 0:\n",
    "        return False\n",
    "    root = math.isqrt(number) \n",
    "    return root * root == number\n",
    "\n",
    "num = int(input(\"Enter a number: \"))\n",
    "if is_perfect_square(num):\n",
    "    print(f\"{num} is a perfect square.\")\n",
    "else:\n",
    "    print(f\"{num} is not a perfect square.\")\n"
   ]
  },
  {
   "cell_type": "markdown",
   "id": "78349b82",
   "metadata": {},
   "source": [
    "\n",
    "---\n",
    "\n",
    "### Exercise 28:\n",
    "Write a Python function that checks if a word is a palindrome.\n"
   ]
  },
  {
   "cell_type": "code",
   "execution_count": 32,
   "id": "04056d04",
   "metadata": {},
   "outputs": [
    {
     "name": "stdin",
     "output_type": "stream",
     "text": [
      "Enter a word:  dad\n"
     ]
    },
    {
     "name": "stdout",
     "output_type": "stream",
     "text": [
      "\"dad\" is a palindrome.\n"
     ]
    }
   ],
   "source": [
    "# Exercise 28\n",
    "def is_palindrome(word):\n",
    "    word = word.lower()  \n",
    "    return word == word[::-1]\n",
    "\n",
    "text = input(\"Enter a word: \")\n",
    "\n",
    "if is_palindrome(text):\n",
    "    print(f'\"{text}\" is a palindrome.')\n",
    "else:\n",
    "    print(f'\"{text}\" is not a palindrome.')"
   ]
  },
  {
   "cell_type": "markdown",
   "id": "9728cce0",
   "metadata": {},
   "source": [
    "\n",
    "---\n",
    "\n",
    "### Exercise 29:\n",
    "Write a Python program that prints \"Fizz\" if a number is divisible by 3, \"Buzz\" if it is divisible by 5, and \"FizzBuzz\" if divisible by both.\n"
   ]
  },
  {
   "cell_type": "code",
   "execution_count": 35,
   "id": "d3caedaa",
   "metadata": {},
   "outputs": [
    {
     "name": "stdout",
     "output_type": "stream",
     "text": [
      "Fizz\n"
     ]
    }
   ],
   "source": [
    "# Exercise 29\n",
    "def fizz_buzz(number):\n",
    "    if number % 3 == 0 and number % 5 == 0:\n",
    "        print(\"FizzBuzz\")\n",
    "    elif number % 3 == 0:\n",
    "        print(\"Fizz\")\n",
    "    elif number % 5 == 0:\n",
    "        print(\"Buzz\")\n",
    "    else:\n",
    "        print(number)\n",
    "fizz_buzz(3)"
   ]
  },
  {
   "cell_type": "markdown",
   "id": "b3c19de5",
   "metadata": {},
   "source": [
    "\n",
    "---\n",
    "\n",
    "### Exercise 30:\n",
    "Write a Python program that checks if the sum of the digits of a number is even.\n"
   ]
  },
  {
   "cell_type": "code",
   "execution_count": 37,
   "id": "1d8d47e4",
   "metadata": {},
   "outputs": [
    {
     "name": "stdin",
     "output_type": "stream",
     "text": [
      "Enter a number:  6\n"
     ]
    },
    {
     "name": "stdout",
     "output_type": "stream",
     "text": [
      "The sum of the digits is even.\n"
     ]
    }
   ],
   "source": [
    "# Exercise 30\n",
    "def is_sum_of_digits_even(number):\n",
    "    total = sum(int(digit) for digit in str(abs(number)))\n",
    "    return total % 2 == 0\n",
    "\n",
    "num = int(input(\"Enter a number: \"))\n",
    "\n",
    "if is_sum_of_digits_even(num):\n",
    "    print(\"The sum of the digits is even.\")\n",
    "else:\n",
    "    print(\"The sum of the digits is odd.\")"
   ]
  },
  {
   "cell_type": "markdown",
   "id": "dbe78293",
   "metadata": {},
   "source": [
    "\n",
    "---\n",
    "\n",
    "### Exercise 31:\n",
    "Write a Python program that checks if a string is a valid email address.\n"
   ]
  },
  {
   "cell_type": "code",
   "execution_count": 39,
   "id": "dc64fe29",
   "metadata": {},
   "outputs": [
    {
     "name": "stdin",
     "output_type": "stream",
     "text": [
      "Enter an email address:  flora@gmail.com\n"
     ]
    },
    {
     "name": "stdout",
     "output_type": "stream",
     "text": [
      "Valid email address.\n"
     ]
    }
   ],
   "source": [
    "# Exercise 31\n",
    "import re\n",
    "\n",
    "def is_valid_email(email):\n",
    "    pattern = r'^[\\w\\.-]+@[\\w\\.-]+\\.\\w+$'\n",
    "    return re.match(pattern, email) is not None\n",
    "    \n",
    "email_input = input(\"Enter an email address: \")\n",
    "\n",
    "if is_valid_email(email_input):\n",
    "    print(\"Valid email address.\")\n",
    "else:\n",
    "    print(\"Invalid email address.\")"
   ]
  },
  {
   "cell_type": "markdown",
   "id": "32922851",
   "metadata": {},
   "source": [
    "\n",
    "---\n",
    "\n",
    "### Exercise 32:\n",
    "Write a Python function that checks if a number is within 10 of 100 or 200.\n"
   ]
  },
  {
   "cell_type": "code",
   "execution_count": null,
   "id": "c3ae205c",
   "metadata": {},
   "outputs": [],
   "source": [
    "# Exercise 32"
   ]
  },
  {
   "cell_type": "markdown",
   "id": "fedc8718",
   "metadata": {},
   "source": [
    "\n",
    "---\n",
    "\n",
    "### Exercise 33:\n",
    "Write a Python program that checks if a given string is a valid URL.\n"
   ]
  },
  {
   "cell_type": "code",
   "execution_count": null,
   "id": "756593ce",
   "metadata": {},
   "outputs": [],
   "source": [
    "# Exercise 33"
   ]
  },
  {
   "cell_type": "markdown",
   "id": "13e8fcae",
   "metadata": {},
   "source": [
    "\n",
    "---\n",
    "\n",
    "### Exercise 34:\n",
    "Write a Python program that checks if a list contains all even numbers.\n"
   ]
  },
  {
   "cell_type": "code",
   "execution_count": null,
   "id": "e3069861",
   "metadata": {},
   "outputs": [],
   "source": [
    "# Exercise 34"
   ]
  },
  {
   "cell_type": "markdown",
   "id": "f19e5362",
   "metadata": {},
   "source": [
    "\n",
    "---\n",
    "\n",
    "### Exercise 35:\n",
    "Write a Python program that checks if a word is longer than a given length.\n"
   ]
  },
  {
   "cell_type": "code",
   "execution_count": null,
   "id": "491df226",
   "metadata": {},
   "outputs": [],
   "source": [
    "# Exercise 35"
   ]
  },
  {
   "cell_type": "markdown",
   "id": "68956c6c",
   "metadata": {},
   "source": [
    "\n",
    "---\n",
    "\n",
    "### Exercise 36:\n",
    "Write a Python program that checks if a list contains only positive numbers.\n"
   ]
  },
  {
   "cell_type": "code",
   "execution_count": null,
   "id": "09112e89",
   "metadata": {},
   "outputs": [],
   "source": [
    "# Exercise 36"
   ]
  },
  {
   "cell_type": "markdown",
   "id": "14f0333b",
   "metadata": {},
   "source": [
    "\n",
    "---\n",
    "\n",
    "### Exercise 37:\n",
    "Write a Python function that checks if a year is a century year (i.e., divisible by 100).\n"
   ]
  },
  {
   "cell_type": "code",
   "execution_count": null,
   "id": "9a0ee8fa",
   "metadata": {},
   "outputs": [],
   "source": [
    "# Exercise 37"
   ]
  },
  {
   "cell_type": "markdown",
   "id": "6271bb93",
   "metadata": {},
   "source": [
    "\n",
    "---\n",
    "\n",
    "### Exercise 38:\n",
    "Write a Python program that checks if the sum of a list of numbers is greater than 100.\n"
   ]
  },
  {
   "cell_type": "code",
   "execution_count": null,
   "id": "6ddf783b",
   "metadata": {},
   "outputs": [],
   "source": [
    "# Exercise 38"
   ]
  },
  {
   "cell_type": "markdown",
   "id": "8a8b88a8",
   "metadata": {},
   "source": [
    "\n",
    "---\n",
    "\n",
    "### Exercise 39:\n",
    "Write a Python function that checks if a given word is a substring of another string.\n"
   ]
  },
  {
   "cell_type": "code",
   "execution_count": null,
   "id": "2d077065",
   "metadata": {},
   "outputs": [],
   "source": [
    "# Exercise 39"
   ]
  },
  {
   "cell_type": "markdown",
   "id": "b21a3bd9",
   "metadata": {},
   "source": [
    "\n",
    "---\n",
    "\n",
    "### Exercise 40:\n",
    "Write a Python program that checks if a number is a power of 2.\n"
   ]
  },
  {
   "cell_type": "code",
   "execution_count": null,
   "id": "fa1ccd70",
   "metadata": {},
   "outputs": [],
   "source": [
    "# Exercise 40"
   ]
  },
  {
   "cell_type": "markdown",
   "id": "5ecd119f",
   "metadata": {},
   "source": [
    "\n",
    "---\n",
    "\n",
    "### Exercise 41:\n",
    "Write a Python function that checks if a string contains no spaces.\n"
   ]
  },
  {
   "cell_type": "code",
   "execution_count": null,
   "id": "8017833e",
   "metadata": {},
   "outputs": [],
   "source": [
    "# Exercise 41"
   ]
  },
  {
   "cell_type": "markdown",
   "id": "9b3c2803",
   "metadata": {},
   "source": [
    "\n",
    "---\n",
    "\n",
    "### Exercise 42:\n",
    "Write a Python program that prints \"Yes\" if a number is divisible by both 2 and 3, otherwise it prints \"No.\"\n"
   ]
  },
  {
   "cell_type": "code",
   "execution_count": null,
   "id": "cdbf39a0",
   "metadata": {},
   "outputs": [],
   "source": [
    "# Exercise 42"
   ]
  },
  {
   "cell_type": "markdown",
   "id": "5a691fcf",
   "metadata": {},
   "source": [
    "\n",
    "---\n",
    "\n",
    "### Exercise 43:\n",
    "Write a Python program that checks if a number is a palindrome.\n"
   ]
  },
  {
   "cell_type": "code",
   "execution_count": null,
   "id": "e7528a0b",
   "metadata": {},
   "outputs": [],
   "source": [
    "# Exercise 43"
   ]
  },
  {
   "cell_type": "markdown",
   "id": "49dfa276",
   "metadata": {},
   "source": [
    "\n",
    "---\n",
    "\n",
    "### Exercise 44:\n",
    "Write a Python function that checks if a string is made of only lowercase letters.\n"
   ]
  },
  {
   "cell_type": "code",
   "execution_count": null,
   "id": "2aa39193",
   "metadata": {},
   "outputs": [],
   "source": [
    "# Exercise 44"
   ]
  },
  {
   "cell_type": "markdown",
   "id": "e5ba21ba",
   "metadata": {},
   "source": [
    "\n",
    "---\n",
    "\n",
    "### Exercise 45:\n",
    "Write a Python program that checks if a string starts with a specific prefix.\n"
   ]
  },
  {
   "cell_type": "code",
   "execution_count": null,
   "id": "e6670049",
   "metadata": {},
   "outputs": [],
   "source": [
    "# Exercise 45"
   ]
  },
  {
   "cell_type": "markdown",
   "id": "1ee0a3b5",
   "metadata": {},
   "source": [
    "\n",
    "---\n",
    "\n",
    "### Exercise 46:\n",
    "Write a Python function that checks if a number is divisible by any number in a given list.\n"
   ]
  },
  {
   "cell_type": "code",
   "execution_count": null,
   "id": "7d01ccf9",
   "metadata": {},
   "outputs": [],
   "source": [
    "# Exercise 46"
   ]
  },
  {
   "cell_type": "markdown",
   "id": "1563300f",
   "metadata": {},
   "source": [
    "\n",
    "---\n",
    "\n",
    "### Exercise 47:\n",
    "Write a Python program that prints \"Yes\" if a string has more than one occurrence of the same letter.\n"
   ]
  },
  {
   "cell_type": "code",
   "execution_count": null,
   "id": "923dcbc1",
   "metadata": {},
   "outputs": [],
   "source": [
    "# Exercise 47"
   ]
  },
  {
   "cell_type": "markdown",
   "id": "ecfb7eba",
   "metadata": {},
   "source": [
    "\n",
    "---\n",
    "\n",
    "### Exercise 48:\n",
    "Write a Python function that checks if a number is prime by dividing it by numbers up to its square root.\n"
   ]
  },
  {
   "cell_type": "code",
   "execution_count": null,
   "id": "3492a570",
   "metadata": {},
   "outputs": [],
   "source": [
    "# Exercise 48"
   ]
  },
  {
   "cell_type": "markdown",
   "id": "efb3508c",
   "metadata": {},
   "source": [
    "\n",
    "---\n",
    "\n",
    "### Exercise 49:\n",
    "Write a Python program that checks if a number is within 1 of a multiple of 10.\n"
   ]
  },
  {
   "cell_type": "code",
   "execution_count": null,
   "id": "fc272cc0",
   "metadata": {},
   "outputs": [],
   "source": [
    "# Exercise 49"
   ]
  },
  {
   "cell_type": "markdown",
   "id": "8c58ab68",
   "metadata": {},
   "source": [
    "\n",
    "---\n",
    "\n",
    "### Exercise 50:\n",
    "Write a Python program that prints \"In range\" if a number is between 10 and 20 (inclusive), otherwise it prints \"Out of range.\"\n"
   ]
  },
  {
   "cell_type": "code",
   "execution_count": null,
   "id": "24ea2036",
   "metadata": {},
   "outputs": [],
   "source": [
    "# Exercise 50"
   ]
  },
  {
   "cell_type": "markdown",
   "id": "87ccd774",
   "metadata": {},
   "source": [
    "\n",
    "---"
   ]
  }
 ],
 "metadata": {
  "kernelspec": {
   "display_name": "Python 3 (ipykernel)",
   "language": "python",
   "name": "python3"
  },
  "language_info": {
   "codemirror_mode": {
    "name": "ipython",
    "version": 3
   },
   "file_extension": ".py",
   "mimetype": "text/x-python",
   "name": "python",
   "nbconvert_exporter": "python",
   "pygments_lexer": "ipython3",
   "version": "3.11.7"
  }
 },
 "nbformat": 4,
 "nbformat_minor": 5
}
